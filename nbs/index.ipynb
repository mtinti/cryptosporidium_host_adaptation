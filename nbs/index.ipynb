{
 "cells": [
  {
   "cell_type": "code",
   "execution_count": 1,
   "metadata": {},
   "outputs": [],
   "source": [
    "#| hide\n",
    "%load_ext autoreload\n",
    "%autoreload 2"
   ]
  },
  {
   "cell_type": "code",
   "execution_count": 8,
   "metadata": {},
   "outputs": [],
   "source": [
    "#| hide\n",
    "from cryptosporidium_host_adaptation.core import *\n",
    "import matplotlib.pyplot as plt\n",
    "import pandas as pd"
   ]
  },
  {
   "cell_type": "markdown",
   "metadata": {},
   "source": [
    "# Divergent Pathways: Tracking Cryptosporidium's Host Adaptation\n"
   ]
  },
  {
   "cell_type": "markdown",
   "metadata": {},
   "source": [
    "###  [This guide is best visualized here](https://mtinti.github.io/cryptosporidium_host_adaptation/)"
   ]
  },
  {
   "cell_type": "markdown",
   "metadata": {},
   "source": [
    "## The Origin: Strain M4"
   ]
  },
  {
   "cell_type": "markdown",
   "metadata": {
    "jp-MarkdownHeadingCollapsed": true
   },
   "source": [
    "Our journey begins with a single infected mouse (M4), harboring a Cryptosporidium strain that would become the progenitor of two distinct evolutionary paths. This initial host served as the critical branching point for our experimental design.\n",
    "\n",
    "From this single origin, the parasite's story split into two parallel narratives:\n",
    "\n",
    "### 🐭 The Murine Passage 🐭\n",
    "> In this pathway, Cryptosporidium continued its journey through a series of mouse hosts, adapting to the murine environment through sequential passages:\n",
    "\n",
    "```\n",
    "M4 → M5 → M6 → M7\n",
    "```\n",
    "\n",
    "Each passage potentially allowed the parasite to optimize its survival and reproductive strategies within these genetically similar mammalian hosts.\n",
    "\n",
    "### 🐄 The Bovine Passage 🐄\n",
    "> Simultaneously, we challenged the adaptability of the same initial strain by introducing it to an entirely different mammalian lineage - neonatal calves:\n",
    "\n",
    "```\n",
    "M4 → C1 → C2 → C3\n",
    "```\n",
    "\n",
    "This cross-species transmission forced the parasite to navigate a dramatically different physiological environment, potentially driving rapid adaptation.\n"
   ]
  },
  {
   "cell_type": "markdown",
   "metadata": {},
   "source": [
    "## 🧬 Specialized Variant Calling Strategy 🧬\n",
    "\n",
    "The progenitor Cryptosporidium population in mouse M4 wasn't a homogeneous colony, but rather a **diverse mixture of strains**. \n",
    "\n",
    ">This discovery fundamentally shaped our analytical approach.\n",
    "\n",
    "To capture the true genetic complexity within our samples, we implemented a customized variant calling pipeline:\n",
    "\n",
    "```\n",
    "┌────────────────────────────────┐\n",
    "│ FREEBAYES VARIANT CALLING      │\n",
    "├────────────────────────────────┤\n",
    "│ • Ploidy = 1                   │\n",
    "│ • --pooled-continuous option   │\n",
    "└────────────────────────────────┘\n",
    "```\n",
    "\n",
    "Why This Approach Matters?\n",
    "\n",
    "1. **Beyond Binary Detection**:\n",
    "> Traditional presence/absence variant calling would have flattened the rich complexity of our samples, obscuring the very phenomenon we aimed to study.\n",
    "\n",
    "3. **Quantitative Insight**:\n",
    "> By focusing on allele frequencies rather than simple variant calls, will allow us to track subtle shifts in population genetics across hosts.\n"
   ]
  },
  {
   "cell_type": "markdown",
   "metadata": {},
   "source": [
    "# Variant Analysis: Filtering Strategy\n",
    "\n",
    "Our approach employed a strategic sequence of filtering steps, each addressing specific aspects of data quality:\n",
    "\n",
    "```\n",
    "┌─────────────────────────────────────┐\n",
    "│ THREE-TIER FILTERING STRATEGY       │\n",
    "├─────────────────────────────────────┤\n",
    "│ 1. Quality-based Filtering          │\n",
    "│ 2. Read Depth Optimization          │\n",
    "│ 3. Variant Type Selection           │\n",
    "└─────────────────────────────────────┘\n",
    "```"
   ]
  },
  {
   "cell_type": "code",
   "execution_count": 11,
   "metadata": {},
   "outputs": [
    {
     "name": "stdout",
     "output_type": "stream",
     "text": [
      "======================================\n",
      "Starting Variant Filtering Process\n",
      "======================================\n",
      "Total variants before filtering: 15901\n",
      "Stage 1: QUAL filtering: 14087 Variants removed and 1814 variants left\n",
      "Stage 2: FORMAT/DP filtering, DP >= 30 & DP <= 150: 355 Variants removed and 1459 variants left\n",
      "Stage 3: After keeping SNPs and indels: 203 Variants removed and 1256 variants left\n"
     ]
    }
   ],
   "source": [
    "filter_variants()"
   ]
  },
  {
   "cell_type": "markdown",
   "metadata": {},
   "source": [
    "### Stage 1: Quality-Based Filtering\n",
    "\n",
    "```bash\n",
    "# Eliminate low confidence variant calls\n",
    "bcftools filter -e 'QUAL < 30' \"$INPUT_VCF\" -o \"$QUAL_FILTERED_VCF\"\n",
    "```\n",
    "\n",
    "**Rationale**: The QUAL score represents the statistical confidence in each variant call. By establishing a minimum threshold of 30:\n",
    "- We eliminated variants likely to be sequencing errors\n",
    "- Retained variants with a 99.9% probability of being genuine\n",
    "\n",
    "### Stage 2: Read Depth Optimization\n",
    "\n",
    "```bash\n",
    "# Balance between coverage requirements and anomalous amplification\n",
    "bcftools view -i 'FMT/DP >= 30 & FMT/DP <= 150' \"$QUAL_FILTERED_VCF\" -o \"$DP_FILTERED_VCF\"\n",
    "```\n",
    "\n",
    "**Rationale**: Read depth optimization addressed two critical concerns:\n",
    "- **Lower bound (DP ≥ 30)**: Ensured sufficient read coverage\n",
    "- **Upper bound (DP ≤ 150)**: Protected against false positives from regions with anomalous read pileups which often indicate repetitive elements\n",
    "\n",
    "\n",
    "### Stage 3: Variant Type Selection\n",
    "\n",
    "```bash\n",
    "# Focus on  variation subset\n",
    "bcftools view -v snps,indels \"$DP_FILTERED_VCF\" -o \"$SNP_FILTERED_VCF\"\n",
    "```\n",
    "**Rationale**: This final step ensured our analysis focused exclusively on:\n",
    "\n",
    "- Single nucleotide polymorphisms (SNPs)\n",
    "- Small insertions and deletions (indels)"
   ]
  },
  {
   "cell_type": "code",
   "execution_count": null,
   "metadata": {},
   "outputs": [],
   "source": []
  },
  {
   "cell_type": "markdown",
   "metadata": {},
   "source": [
    "# From Raw Variants to Biological Insights\n",
    "\n",
    "## 📊 From Data to Discovery with 🐼 Pandas\n",
    "\n",
    "Leveraging the robust capabilities of Python's pandas library transformed our genetic data into a powerhouse of actionable insights.\n",
    "\n",
    "```python\n",
    "┌─────────────────────────────────────────────────────┐\n",
    "│ DATA TRANSFORMATION PIPELINE                        │\n",
    "├─────────────────────────────────────────────────────┤\n",
    "│ 1. Load filtered VCF file                           │\n",
    "│ 2. Remove ambiguous reference calls (REF = 'N')     │\n",
    "│ 3. Restructure for for computing frequency          │\n",
    "└─────────────────────────────────────────────────────┘\n",
    "```\n"
   ]
  },
  {
   "cell_type": "code",
   "execution_count": 24,
   "metadata": {},
   "outputs": [
    {
     "name": "stdout",
     "output_type": "stream",
     "text": [
      "step 1: (1256, 16)\n",
      "step 2: (945, 16)\n"
     ]
    }
   ],
   "source": [
    "vcf_file = \"../data/filtered_final.vcf\"  \n",
    "df_vcf = read_vcf(vcf_file)\n",
    "print(f'step 1: {df_vcf.shape}')\n",
    "df_vcf=df_vcf[(df_vcf['REF']!='N')]\n",
    "print(f'step 2: {df_vcf.shape}')"
   ]
  },
  {
   "cell_type": "code",
   "execution_count": 26,
   "metadata": {},
   "outputs": [
    {
     "data": {
      "text/html": [
       "<div>\n",
       "<style scoped>\n",
       "    .dataframe tbody tr th:only-of-type {\n",
       "        vertical-align: middle;\n",
       "    }\n",
       "\n",
       "    .dataframe tbody tr th {\n",
       "        vertical-align: top;\n",
       "    }\n",
       "\n",
       "    .dataframe thead th {\n",
       "        text-align: right;\n",
       "    }\n",
       "</style>\n",
       "<table border=\"1\" class=\"dataframe\">\n",
       "  <thead>\n",
       "    <tr style=\"text-align: right;\">\n",
       "      <th></th>\n",
       "      <th>#CHROM</th>\n",
       "      <th>POS</th>\n",
       "      <th>ID</th>\n",
       "      <th>REF</th>\n",
       "      <th>ALT</th>\n",
       "      <th>QUAL</th>\n",
       "      <th>FILTER</th>\n",
       "      <th>INFO</th>\n",
       "      <th>FORMAT</th>\n",
       "      <th>M7</th>\n",
       "      <th>M5</th>\n",
       "      <th>M4</th>\n",
       "      <th>M6</th>\n",
       "      <th>C3</th>\n",
       "      <th>C2</th>\n",
       "      <th>C1</th>\n",
       "    </tr>\n",
       "  </thead>\n",
       "  <tbody>\n",
       "    <tr>\n",
       "      <th>0</th>\n",
       "      <td>CM000429</td>\n",
       "      <td>60867</td>\n",
       "      <td>.</td>\n",
       "      <td>TAAAAAAAAAAGATAT</td>\n",
       "      <td>TAAAAAAAAAAAGATTT,TAAAAAAAAAAAGATAT,TAAAAAAAAA...</td>\n",
       "      <td>10088.400</td>\n",
       "      <td>PASS</td>\n",
       "      <td>AB=0,0,0;ABP=0,0,0;AC=0,7,0;AF=0,1,0;AN=7;AO=1...</td>\n",
       "      <td>GT:GQ:DP:AD:RO:QR:AO:QA:GL</td>\n",
       "      <td>2:138:82:9,2,67,2:9:296:2,67,2:24,2218,68:-172...</td>\n",
       "      <td>2:138:46:3,2,35,1:3:100:2,35,1:24,1116,34:-91....</td>\n",
       "      <td>2:138:69:4,4,59,1:4:132:4,59,1:48,1980,34:-166...</td>\n",
       "      <td>2:138:82:14,2,62,1:14:461:2,62,1:24,2092,26:-1...</td>\n",
       "      <td>2:138:57:5,1,45,1:5:163:1,45,1:12,1492,34:-119...</td>\n",
       "      <td>2:138:69:1,0,60,4:1:34:0,60,4:0,1966,136:-173....</td>\n",
       "      <td>2:138:62:4,1,50,4:4:130:1,50,4:12,1678,128:-13...</td>\n",
       "    </tr>\n",
       "    <tr>\n",
       "      <th>1</th>\n",
       "      <td>CM000429</td>\n",
       "      <td>60889</td>\n",
       "      <td>.</td>\n",
       "      <td>ACCCCACT</td>\n",
       "      <td>ACCCCCACT</td>\n",
       "      <td>11705.800</td>\n",
       "      <td>PASS</td>\n",
       "      <td>AB=0;ABP=0;AC=7;AF=1;AN=7;AO=435;CIGAR=1M1I7M;...</td>\n",
       "      <td>GT:GQ:DP:AD:RO:QR:AO:QA:GL</td>\n",
       "      <td>1:137:90:9,81:9:295:81:2686:-215.126,0</td>\n",
       "      <td>1:137:53:1,50:1:34:50:1596:-140.656,0</td>\n",
       "      <td>1:137:70:2,66:2:68:66:2184:-190.372,0</td>\n",
       "      <td>1:137:82:11,70:11:359:70:2241:-169.324,0</td>\n",
       "      <td>1:137:45:5,40:5:169:40:1237:-96.064,0</td>\n",
       "      <td>1:137:68:1,66:1:31:66:2174:-192.923,0</td>\n",
       "      <td>1:137:69:4,62:4:126:62:2002:-168.787,0</td>\n",
       "    </tr>\n",
       "    <tr>\n",
       "      <th>2</th>\n",
       "      <td>CM000429</td>\n",
       "      <td>76625</td>\n",
       "      <td>.</td>\n",
       "      <td>A</td>\n",
       "      <td>G</td>\n",
       "      <td>265.872</td>\n",
       "      <td>PASS</td>\n",
       "      <td>AB=0;ABP=0;AC=1;AF=0.142857;AN=7;AO=248;CIGAR=...</td>\n",
       "      <td>GT:GQ:DP:AD:RO:QR:AO:QA:GL</td>\n",
       "      <td>0:131:104:76,28:76:2560:28:952:0,-144.672</td>\n",
       "      <td>0:131:80:52,28:52:1738:28:930:0,-72.6994</td>\n",
       "      <td>0:131:84:50,34:50:1596:34:1156:0,-39.5691</td>\n",
       "      <td>0:131:89:61,28:61:2066:28:944:0,-100.949</td>\n",
       "      <td>1:131:83:36,47:36:1216:47:1598:-34.3706,0</td>\n",
       "      <td>0:131:112:78,34:78:2630:34:1126:0,-135.322</td>\n",
       "      <td>0:131:112:63,49:63:2126:49:1658:0,-42.1062</td>\n",
       "    </tr>\n",
       "    <tr>\n",
       "      <th>3</th>\n",
       "      <td>CM000429</td>\n",
       "      <td>82019</td>\n",
       "      <td>.</td>\n",
       "      <td>A</td>\n",
       "      <td>T</td>\n",
       "      <td>8192.190</td>\n",
       "      <td>PASS</td>\n",
       "      <td>AB=0;ABP=0;AC=7;AF=1;AN=7;AO=410;CIGAR=1X;DP=5...</td>\n",
       "      <td>GT:GQ:DP:AD:RO:QR:AO:QA:GL</td>\n",
       "      <td>1:160:98:9,89:9:306:89:2994:-241.841,0</td>\n",
       "      <td>1:160:51:15,36:15:510:36:1186:-60.8115,0</td>\n",
       "      <td>1:160:86:19,67:19:638:67:2240:-144.133,0</td>\n",
       "      <td>1:160:90:15,75:15:488:75:2488:-179.952,0</td>\n",
       "      <td>1:160:70:26,44:26:862:44:1472:-54.8869,0</td>\n",
       "      <td>1:160:81:31,50:31:1046:50:1662:-55.4182,0</td>\n",
       "      <td>1:160:71:22,49:22:748:49:1666:-82.5935,0</td>\n",
       "    </tr>\n",
       "    <tr>\n",
       "      <th>4</th>\n",
       "      <td>CM000429</td>\n",
       "      <td>82192</td>\n",
       "      <td>.</td>\n",
       "      <td>G</td>\n",
       "      <td>A</td>\n",
       "      <td>6765.840</td>\n",
       "      <td>PASS</td>\n",
       "      <td>AB=0;ABP=0;AC=6;AF=0.857143;AN=7;AO=398;CIGAR=...</td>\n",
       "      <td>GT:GQ:DP:AD:RO:QR:AO:QA:GL</td>\n",
       "      <td>1:134:104:11,93:11:374:93:3124:-247.418,0</td>\n",
       "      <td>1:134:67:20,47:20:658:47:1598:-84.5836,0</td>\n",
       "      <td>1:134:75:25,50:25:842:50:1692:-76.4771,0</td>\n",
       "      <td>1:134:102:26,76:26:846:76:2568:-154.943,0</td>\n",
       "      <td>0:0:53:28,25:28:944:25:850:0,-8.45503</td>\n",
       "      <td>1:134:92:35,57:35:1190:57:1938:-67.2984,0</td>\n",
       "      <td>1:134:83:33,50:33:1084:50:1692:-54.7114,0</td>\n",
       "    </tr>\n",
       "  </tbody>\n",
       "</table>\n",
       "</div>"
      ],
      "text/plain": [
       "     #CHROM    POS ID               REF  \\\n",
       "0  CM000429  60867  .  TAAAAAAAAAAGATAT   \n",
       "1  CM000429  60889  .          ACCCCACT   \n",
       "2  CM000429  76625  .                 A   \n",
       "3  CM000429  82019  .                 A   \n",
       "4  CM000429  82192  .                 G   \n",
       "\n",
       "                                                 ALT       QUAL FILTER  \\\n",
       "0  TAAAAAAAAAAAGATTT,TAAAAAAAAAAAGATAT,TAAAAAAAAA...  10088.400   PASS   \n",
       "1                                          ACCCCCACT  11705.800   PASS   \n",
       "2                                                  G    265.872   PASS   \n",
       "3                                                  T   8192.190   PASS   \n",
       "4                                                  A   6765.840   PASS   \n",
       "\n",
       "                                                INFO  \\\n",
       "0  AB=0,0,0;ABP=0,0,0;AC=0,7,0;AF=0,1,0;AN=7;AO=1...   \n",
       "1  AB=0;ABP=0;AC=7;AF=1;AN=7;AO=435;CIGAR=1M1I7M;...   \n",
       "2  AB=0;ABP=0;AC=1;AF=0.142857;AN=7;AO=248;CIGAR=...   \n",
       "3  AB=0;ABP=0;AC=7;AF=1;AN=7;AO=410;CIGAR=1X;DP=5...   \n",
       "4  AB=0;ABP=0;AC=6;AF=0.857143;AN=7;AO=398;CIGAR=...   \n",
       "\n",
       "                       FORMAT  \\\n",
       "0  GT:GQ:DP:AD:RO:QR:AO:QA:GL   \n",
       "1  GT:GQ:DP:AD:RO:QR:AO:QA:GL   \n",
       "2  GT:GQ:DP:AD:RO:QR:AO:QA:GL   \n",
       "3  GT:GQ:DP:AD:RO:QR:AO:QA:GL   \n",
       "4  GT:GQ:DP:AD:RO:QR:AO:QA:GL   \n",
       "\n",
       "                                                  M7  \\\n",
       "0  2:138:82:9,2,67,2:9:296:2,67,2:24,2218,68:-172...   \n",
       "1             1:137:90:9,81:9:295:81:2686:-215.126,0   \n",
       "2          0:131:104:76,28:76:2560:28:952:0,-144.672   \n",
       "3             1:160:98:9,89:9:306:89:2994:-241.841,0   \n",
       "4          1:134:104:11,93:11:374:93:3124:-247.418,0   \n",
       "\n",
       "                                                  M5  \\\n",
       "0  2:138:46:3,2,35,1:3:100:2,35,1:24,1116,34:-91....   \n",
       "1              1:137:53:1,50:1:34:50:1596:-140.656,0   \n",
       "2           0:131:80:52,28:52:1738:28:930:0,-72.6994   \n",
       "3           1:160:51:15,36:15:510:36:1186:-60.8115,0   \n",
       "4           1:134:67:20,47:20:658:47:1598:-84.5836,0   \n",
       "\n",
       "                                                  M4  \\\n",
       "0  2:138:69:4,4,59,1:4:132:4,59,1:48,1980,34:-166...   \n",
       "1              1:137:70:2,66:2:68:66:2184:-190.372,0   \n",
       "2          0:131:84:50,34:50:1596:34:1156:0,-39.5691   \n",
       "3           1:160:86:19,67:19:638:67:2240:-144.133,0   \n",
       "4           1:134:75:25,50:25:842:50:1692:-76.4771,0   \n",
       "\n",
       "                                                  M6  \\\n",
       "0  2:138:82:14,2,62,1:14:461:2,62,1:24,2092,26:-1...   \n",
       "1           1:137:82:11,70:11:359:70:2241:-169.324,0   \n",
       "2           0:131:89:61,28:61:2066:28:944:0,-100.949   \n",
       "3           1:160:90:15,75:15:488:75:2488:-179.952,0   \n",
       "4          1:134:102:26,76:26:846:76:2568:-154.943,0   \n",
       "\n",
       "                                                  C3  \\\n",
       "0  2:138:57:5,1,45,1:5:163:1,45,1:12,1492,34:-119...   \n",
       "1              1:137:45:5,40:5:169:40:1237:-96.064,0   \n",
       "2          1:131:83:36,47:36:1216:47:1598:-34.3706,0   \n",
       "3           1:160:70:26,44:26:862:44:1472:-54.8869,0   \n",
       "4              0:0:53:28,25:28:944:25:850:0,-8.45503   \n",
       "\n",
       "                                                  C2  \\\n",
       "0  2:138:69:1,0,60,4:1:34:0,60,4:0,1966,136:-173....   \n",
       "1              1:137:68:1,66:1:31:66:2174:-192.923,0   \n",
       "2         0:131:112:78,34:78:2630:34:1126:0,-135.322   \n",
       "3          1:160:81:31,50:31:1046:50:1662:-55.4182,0   \n",
       "4          1:134:92:35,57:35:1190:57:1938:-67.2984,0   \n",
       "\n",
       "                                                  C1  \n",
       "0  2:138:62:4,1,50,4:4:130:1,50,4:12,1678,128:-13...  \n",
       "1             1:137:69:4,62:4:126:62:2002:-168.787,0  \n",
       "2         0:131:112:63,49:63:2126:49:1658:0,-42.1062  \n",
       "3           1:160:71:22,49:22:748:49:1666:-82.5935,0  \n",
       "4          1:134:83:33,50:33:1084:50:1692:-54.7114,0  "
      ]
     },
     "execution_count": 26,
     "metadata": {},
     "output_type": "execute_result"
    }
   ],
   "source": [
    "df_vcf.head()"
   ]
  },
  {
   "cell_type": "code",
   "execution_count": null,
   "metadata": {},
   "outputs": [],
   "source": []
  },
  {
   "cell_type": "code",
   "execution_count": null,
   "metadata": {},
   "outputs": [],
   "source": []
  },
  {
   "cell_type": "code",
   "execution_count": null,
   "metadata": {},
   "outputs": [],
   "source": []
  },
  {
   "cell_type": "code",
   "execution_count": null,
   "metadata": {},
   "outputs": [],
   "source": []
  },
  {
   "cell_type": "code",
   "execution_count": null,
   "metadata": {},
   "outputs": [],
   "source": []
  },
  {
   "cell_type": "code",
   "execution_count": null,
   "metadata": {},
   "outputs": [],
   "source": []
  },
  {
   "cell_type": "code",
   "execution_count": null,
   "metadata": {},
   "outputs": [],
   "source": []
  },
  {
   "cell_type": "code",
   "execution_count": null,
   "metadata": {},
   "outputs": [],
   "source": []
  },
  {
   "cell_type": "code",
   "execution_count": null,
   "metadata": {},
   "outputs": [],
   "source": []
  },
  {
   "cell_type": "code",
   "execution_count": null,
   "metadata": {},
   "outputs": [],
   "source": []
  },
  {
   "cell_type": "code",
   "execution_count": null,
   "metadata": {},
   "outputs": [],
   "source": []
  },
  {
   "cell_type": "code",
   "execution_count": null,
   "metadata": {},
   "outputs": [],
   "source": []
  },
  {
   "cell_type": "markdown",
   "metadata": {},
   "source": [
    "### Reproducibility"
   ]
  },
  {
   "cell_type": "markdown",
   "metadata": {},
   "source": [
    "Install latest from the GitHub [repository][repo]:\n",
    "\n",
    "```sh\n",
    "$ pip install git+https://github.com/mtinti/cryptosporidium_host_adaptation.git\n",
    "```\n",
    "\n",
    "or from [conda][conda]\n",
    "\n",
    "```sh\n",
    "$ conda install -c mtinti cryptosporidium_host_adaptation\n",
    "```\n",
    "\n",
    "or from [pypi][pypi]\n",
    "\n",
    "\n",
    "```sh\n",
    "$ pip install cryptosporidium_host_adaptation\n",
    "```\n",
    "\n",
    "\n",
    "[repo]: https://github.com/mtinti/cryptosporidium_host_adaptation\n",
    "[docs]: https://mtinti.github.io/cryptosporidium_host_adaptation/\n",
    "[pypi]: https://pypi.org/project/cryptosporidium_host_adaptation/\n",
    "[conda]: https://anaconda.org/mtinti/cryptosporidium_host_adaptation"
   ]
  },
  {
   "cell_type": "code",
   "execution_count": 5,
   "metadata": {},
   "outputs": [],
   "source": [
    "#| hide\n",
    "import nbdev; nbdev.nbdev_export()"
   ]
  },
  {
   "cell_type": "code",
   "execution_count": null,
   "metadata": {},
   "outputs": [],
   "source": []
  }
 ],
 "metadata": {
  "kernelspec": {
   "display_name": "Python delightful_data_analysis",
   "language": "python",
   "name": "delightful_data_analysis"
  },
  "language_info": {
   "codemirror_mode": {
    "name": "ipython",
    "version": 3
   },
   "file_extension": ".py",
   "mimetype": "text/x-python",
   "name": "python",
   "nbconvert_exporter": "python",
   "pygments_lexer": "ipython3",
   "version": "3.13.2"
  }
 },
 "nbformat": 4,
 "nbformat_minor": 4
}
