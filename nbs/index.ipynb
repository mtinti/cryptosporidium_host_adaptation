{
 "cells": [
  {
   "cell_type": "code",
   "execution_count": null,
   "metadata": {},
   "outputs": [],
   "source": [
    "#| hide\n",
    "%load_ext autoreload\n",
    "%autoreload 2\n",
    "from cryptosporidium_host_adaptation.core import *\n",
    "import matplotlib.pyplot as plt\n",
    "import pandas as pd\n",
    "import seaborn as sns"
   ]
  },
  {
   "cell_type": "markdown",
   "metadata": {},
   "source": [
    "# Divergent Pathways: Tracking Cryptosporidium's Host Adaptation"
   ]
  },
  {
   "cell_type": "markdown",
   "metadata": {},
   "source": [
    "> [![](https://zenodo.org/badge/DOI/10.5281/zenodo.15126025.svg)](https://doi.org/10.5281/zenodo.15126025)\n",
    "[![](https://mybinder.org/badge_logo.svg)](https://mybinder.org/v2/gh/mtinti/cryptosporidium_host_adaptation/HEAD?urlpath=%2Fdoc%2Ftree%2Fnbs%2Findex.ipynb) \n",
    "[![](https://img.shields.io/badge/Delightful%20data-analysis-green?style=flat)](https://mtinti.github.io/cryptosporidium_host_adaptation/)\n",
    "[![](https://img.shields.io/badge/GitHub-181717?style=flat&logo=github&logoColor=whitet)](https://github.com/mtinti/cryptosporidium_host_adaptation)\n",
    "\n"
   ]
  },
  {
   "cell_type": "markdown",
   "metadata": {},
   "source": [
    "## The Origin: Strain M4"
   ]
  },
  {
   "cell_type": "markdown",
   "metadata": {},
   "source": [
    "Our journey begins with a single infected mouse (M4), harboring a Cryptosporidium strain that would become the progenitor of two distinct evolutionary paths. This initial host served as the critical branching point for our experimental design.\n",
    "\n",
    "From this single origin, the parasite's story split into two parallel narratives:\n",
    "\n",
    "### 🐭 The Murine Passage 🐭\n",
    "> In this pathway, Cryptosporidium continued its journey through a series of mouse hosts, adapting to the murine environment through sequential passages:\n",
    "\n",
    "```\n",
    "M4 → M5 → M6 → M7\n",
    "```\n",
    "\n",
    "Each passage potentially allowed the parasite to optimize its survival and reproductive strategies within these genetically similar mammalian hosts.\n",
    "\n",
    "### 🐄 The Bovine Passage 🐄\n",
    "> Simultaneously, we challenged the adaptability of the same initial strain by introducing it to an entirely different mammalian lineage - neonatal calves:\n",
    "\n",
    "```\n",
    "M4 → C1 → C2 → C3\n",
    "```\n",
    "\n",
    "This cross-species transmission forced the parasite to navigate a dramatically different physiological environment, potentially driving rapid adaptation.\n"
   ]
  },
  {
   "cell_type": "markdown",
   "metadata": {},
   "source": [
    "## 🧬 Specialized Variant Calling Strategy 🧬\n",
    "\n",
    "The progenitor Cryptosporidium population in mouse M4 wasn't a homogeneous colony, but rather a **diverse mixture of strains**. \n",
    "\n",
    ">This discovery fundamentally shaped our analytical approach.\n",
    "\n",
    "To capture the true genetic complexity within our samples, we implemented a customized variant calling pipeline:\n",
    "\n",
    "```\n",
    "┌────────────────────────────────┐\n",
    "│ FREEBAYES VARIANT CALLING      │\n",
    "├────────────────────────────────┤\n",
    "│ • Ploidy = 1                   │\n",
    "│ • --pooled-continuous option   │\n",
    "└────────────────────────────────┘\n",
    "```\n",
    "\n",
    "Why This Approach Matters?\n",
    "\n",
    "1. **Beyond Binary Detection**:\n",
    "> Traditional presence/absence variant calling would have flattened the rich complexity of our samples, obscuring the very phenomenon we aimed to study.\n",
    "\n",
    "3. **Quantitative Insight**:\n",
    "> By focusing on allele frequencies rather than simple variant calls, will allow us to track subtle shifts in population genetics across hosts.\n"
   ]
  },
  {
   "cell_type": "markdown",
   "metadata": {},
   "source": [
    "# Variant Analysis: Filtering Strategy\n",
    "\n",
    "Our approach employed a strategic sequence of filtering steps, each addressing specific aspects of data quality:\n",
    "\n",
    "```\n",
    "┌─────────────────────────────────────┐\n",
    "│ THREE-TIER FILTERING STRATEGY       │\n",
    "├─────────────────────────────────────┤\n",
    "│ 1. Quality-based Filtering          │\n",
    "│ 2. Read Depth Optimization          │\n",
    "│ 3. Variant Type Selection           │\n",
    "└─────────────────────────────────────┘\n",
    "```"
   ]
  },
  {
   "cell_type": "code",
   "execution_count": null,
   "metadata": {},
   "outputs": [
    {
     "name": "stdout",
     "output_type": "stream",
     "text": [
      "======================================\n",
      "Starting Variant Filtering Process\n",
      "======================================\n",
      "Total variants before filtering: 15901\n",
      "Stage 1: QUAL filtering: 14087 Variants removed and 1814 variants left\n",
      "Stage 2: FORMAT/DP filtering, DP >= 30 & DP <= 150: 355 Variants removed and 1459 variants left\n",
      "Stage 3: After keeping SNPs and indels: 203 Variants removed and 1256 variants left\n"
     ]
    }
   ],
   "source": [
    "filter_variants()"
   ]
  },
  {
   "cell_type": "code",
   "execution_count": null,
   "metadata": {},
   "outputs": [],
   "source": []
  },
  {
   "cell_type": "markdown",
   "metadata": {},
   "source": [
    "### Stage 1: Quality-Based Filtering\n",
    "\n",
    "```bash\n",
    "# Eliminate low confidence variant calls\n",
    "bcftools filter -e 'QUAL < 30' \"$INPUT_VCF\" -o \"$QUAL_FILTERED_VCF\"\n",
    "```\n",
    "\n",
    "**Rationale**: The QUAL score represents the statistical confidence in each variant call. By establishing a minimum threshold of 30:\n",
    "- We eliminated variants likely to be sequencing errors\n",
    "- Retained variants with a 99.9% probability of being genuine\n",
    "\n",
    "### Stage 2: Read Depth Optimization\n",
    "\n",
    "```bash\n",
    "# Balance between coverage requirements and anomalous amplification\n",
    "bcftools view -i 'FMT/DP >= 30 & FMT/DP <= 150' \"$QUAL_FILTERED_VCF\" -o \"$DP_FILTERED_VCF\"\n",
    "```\n",
    "\n",
    "**Rationale**: Read depth optimization addressed two critical concerns:\n",
    "- **Lower bound (DP ≥ 30)**: Ensured sufficient read coverage\n",
    "- **Upper bound (DP ≤ 150)**: Protected against false positives from regions with anomalous read pileups which often indicate repetitive elements\n",
    "\n",
    "\n",
    "### Stage 3: Variant Type Selection\n",
    "\n",
    "```bash\n",
    "# Focus on  variation subset\n",
    "bcftools view -v snps,indels \"$DP_FILTERED_VCF\" -o \"$SNP_FILTERED_VCF\"\n",
    "```\n",
    "**Rationale**: This final step ensured our analysis focused exclusively on:\n",
    "\n",
    "- Single nucleotide polymorphisms (SNPs)\n",
    "- Small insertions and deletions (indels)"
   ]
  },
  {
   "cell_type": "code",
   "execution_count": null,
   "metadata": {},
   "outputs": [],
   "source": []
  },
  {
   "cell_type": "markdown",
   "metadata": {},
   "source": [
    "# From Raw Variants to Biological Insights 📊 with Pandas 🐼 \n",
    "\n",
    "\n",
    "Leveraging the robust capabilities of Python's pandas library transformed our genetic data into a powerhouse of actionable insights.\n",
    "\n",
    "```python\n",
    "┌─────────────────────────────────────────────────────┐\n",
    "│ DATA TRANSFORMATION PIPELINE                        │\n",
    "├─────────────────────────────────────────────────────┤\n",
    "│ 1. Load filtered VCF file                           │\n",
    "│ 2. Remove ambiguous reference calls (REF = 'N')     │\n",
    "│ 3. Restructure for for computing frequency          │\n",
    "└─────────────────────────────────────────────────────┘\n",
    "```\n"
   ]
  },
  {
   "cell_type": "code",
   "execution_count": null,
   "metadata": {},
   "outputs": [
    {
     "name": "stdout",
     "output_type": "stream",
     "text": [
      "step 1: (1256, 16)\n",
      "step 2: (945, 16)\n"
     ]
    }
   ],
   "source": [
    "vcf_file = \"../data/filtered_final.vcf\"  \n",
    "df_vcf = read_vcf(vcf_file)\n",
    "print(f'step 1: {df_vcf.shape}')\n",
    "df_vcf=df_vcf[(df_vcf['REF']!='N')]\n",
    "print(f'step 2: {df_vcf.shape}')"
   ]
  },
  {
   "cell_type": "code",
   "execution_count": null,
   "metadata": {},
   "outputs": [
    {
     "data": {
      "text/html": [
       "<div>\n",
       "<style scoped>\n",
       "    .dataframe tbody tr th:only-of-type {\n",
       "        vertical-align: middle;\n",
       "    }\n",
       "\n",
       "    .dataframe tbody tr th {\n",
       "        vertical-align: top;\n",
       "    }\n",
       "\n",
       "    .dataframe thead th {\n",
       "        text-align: right;\n",
       "    }\n",
       "</style>\n",
       "<table border=\"1\" class=\"dataframe\">\n",
       "  <thead>\n",
       "    <tr style=\"text-align: right;\">\n",
       "      <th></th>\n",
       "      <th>#CHROM</th>\n",
       "      <th>POS</th>\n",
       "      <th>ID</th>\n",
       "      <th>REF</th>\n",
       "      <th>ALT</th>\n",
       "      <th>QUAL</th>\n",
       "      <th>FILTER</th>\n",
       "      <th>INFO</th>\n",
       "      <th>FORMAT</th>\n",
       "      <th>M7</th>\n",
       "      <th>M5</th>\n",
       "      <th>M4</th>\n",
       "      <th>M6</th>\n",
       "      <th>C3</th>\n",
       "      <th>C2</th>\n",
       "      <th>C1</th>\n",
       "    </tr>\n",
       "  </thead>\n",
       "  <tbody>\n",
       "    <tr>\n",
       "      <th>0</th>\n",
       "      <td>CM000429</td>\n",
       "      <td>60867</td>\n",
       "      <td>.</td>\n",
       "      <td>TAAAAAAAAAAGATAT</td>\n",
       "      <td>TAAAAAAAAAAAGATTT,TAAAAAAAAAAAGATAT,TAAAAAAAAA...</td>\n",
       "      <td>10088.400</td>\n",
       "      <td>PASS</td>\n",
       "      <td>AB=0,0,0;ABP=0,0,0;AC=0,7,0;AF=0,1,0;AN=7;AO=1...</td>\n",
       "      <td>GT:GQ:DP:AD:RO:QR:AO:QA:GL</td>\n",
       "      <td>2:138:82:9,2,67,2:9:296:2,67,2:24,2218,68:-172...</td>\n",
       "      <td>2:138:46:3,2,35,1:3:100:2,35,1:24,1116,34:-91....</td>\n",
       "      <td>2:138:69:4,4,59,1:4:132:4,59,1:48,1980,34:-166...</td>\n",
       "      <td>2:138:82:14,2,62,1:14:461:2,62,1:24,2092,26:-1...</td>\n",
       "      <td>2:138:57:5,1,45,1:5:163:1,45,1:12,1492,34:-119...</td>\n",
       "      <td>2:138:69:1,0,60,4:1:34:0,60,4:0,1966,136:-173....</td>\n",
       "      <td>2:138:62:4,1,50,4:4:130:1,50,4:12,1678,128:-13...</td>\n",
       "    </tr>\n",
       "    <tr>\n",
       "      <th>1</th>\n",
       "      <td>CM000429</td>\n",
       "      <td>60889</td>\n",
       "      <td>.</td>\n",
       "      <td>ACCCCACT</td>\n",
       "      <td>ACCCCCACT</td>\n",
       "      <td>11705.800</td>\n",
       "      <td>PASS</td>\n",
       "      <td>AB=0;ABP=0;AC=7;AF=1;AN=7;AO=435;CIGAR=1M1I7M;...</td>\n",
       "      <td>GT:GQ:DP:AD:RO:QR:AO:QA:GL</td>\n",
       "      <td>1:137:90:9,81:9:295:81:2686:-215.126,0</td>\n",
       "      <td>1:137:53:1,50:1:34:50:1596:-140.656,0</td>\n",
       "      <td>1:137:70:2,66:2:68:66:2184:-190.372,0</td>\n",
       "      <td>1:137:82:11,70:11:359:70:2241:-169.324,0</td>\n",
       "      <td>1:137:45:5,40:5:169:40:1237:-96.064,0</td>\n",
       "      <td>1:137:68:1,66:1:31:66:2174:-192.923,0</td>\n",
       "      <td>1:137:69:4,62:4:126:62:2002:-168.787,0</td>\n",
       "    </tr>\n",
       "    <tr>\n",
       "      <th>2</th>\n",
       "      <td>CM000429</td>\n",
       "      <td>76625</td>\n",
       "      <td>.</td>\n",
       "      <td>A</td>\n",
       "      <td>G</td>\n",
       "      <td>265.872</td>\n",
       "      <td>PASS</td>\n",
       "      <td>AB=0;ABP=0;AC=1;AF=0.142857;AN=7;AO=248;CIGAR=...</td>\n",
       "      <td>GT:GQ:DP:AD:RO:QR:AO:QA:GL</td>\n",
       "      <td>0:131:104:76,28:76:2560:28:952:0,-144.672</td>\n",
       "      <td>0:131:80:52,28:52:1738:28:930:0,-72.6994</td>\n",
       "      <td>0:131:84:50,34:50:1596:34:1156:0,-39.5691</td>\n",
       "      <td>0:131:89:61,28:61:2066:28:944:0,-100.949</td>\n",
       "      <td>1:131:83:36,47:36:1216:47:1598:-34.3706,0</td>\n",
       "      <td>0:131:112:78,34:78:2630:34:1126:0,-135.322</td>\n",
       "      <td>0:131:112:63,49:63:2126:49:1658:0,-42.1062</td>\n",
       "    </tr>\n",
       "    <tr>\n",
       "      <th>3</th>\n",
       "      <td>CM000429</td>\n",
       "      <td>82019</td>\n",
       "      <td>.</td>\n",
       "      <td>A</td>\n",
       "      <td>T</td>\n",
       "      <td>8192.190</td>\n",
       "      <td>PASS</td>\n",
       "      <td>AB=0;ABP=0;AC=7;AF=1;AN=7;AO=410;CIGAR=1X;DP=5...</td>\n",
       "      <td>GT:GQ:DP:AD:RO:QR:AO:QA:GL</td>\n",
       "      <td>1:160:98:9,89:9:306:89:2994:-241.841,0</td>\n",
       "      <td>1:160:51:15,36:15:510:36:1186:-60.8115,0</td>\n",
       "      <td>1:160:86:19,67:19:638:67:2240:-144.133,0</td>\n",
       "      <td>1:160:90:15,75:15:488:75:2488:-179.952,0</td>\n",
       "      <td>1:160:70:26,44:26:862:44:1472:-54.8869,0</td>\n",
       "      <td>1:160:81:31,50:31:1046:50:1662:-55.4182,0</td>\n",
       "      <td>1:160:71:22,49:22:748:49:1666:-82.5935,0</td>\n",
       "    </tr>\n",
       "    <tr>\n",
       "      <th>4</th>\n",
       "      <td>CM000429</td>\n",
       "      <td>82192</td>\n",
       "      <td>.</td>\n",
       "      <td>G</td>\n",
       "      <td>A</td>\n",
       "      <td>6765.840</td>\n",
       "      <td>PASS</td>\n",
       "      <td>AB=0;ABP=0;AC=6;AF=0.857143;AN=7;AO=398;CIGAR=...</td>\n",
       "      <td>GT:GQ:DP:AD:RO:QR:AO:QA:GL</td>\n",
       "      <td>1:134:104:11,93:11:374:93:3124:-247.418,0</td>\n",
       "      <td>1:134:67:20,47:20:658:47:1598:-84.5836,0</td>\n",
       "      <td>1:134:75:25,50:25:842:50:1692:-76.4771,0</td>\n",
       "      <td>1:134:102:26,76:26:846:76:2568:-154.943,0</td>\n",
       "      <td>0:0:53:28,25:28:944:25:850:0,-8.45503</td>\n",
       "      <td>1:134:92:35,57:35:1190:57:1938:-67.2984,0</td>\n",
       "      <td>1:134:83:33,50:33:1084:50:1692:-54.7114,0</td>\n",
       "    </tr>\n",
       "  </tbody>\n",
       "</table>\n",
       "</div>"
      ],
      "text/plain": [
       "     #CHROM    POS ID               REF  \\\n",
       "0  CM000429  60867  .  TAAAAAAAAAAGATAT   \n",
       "1  CM000429  60889  .          ACCCCACT   \n",
       "2  CM000429  76625  .                 A   \n",
       "3  CM000429  82019  .                 A   \n",
       "4  CM000429  82192  .                 G   \n",
       "\n",
       "                                                 ALT       QUAL FILTER  \\\n",
       "0  TAAAAAAAAAAAGATTT,TAAAAAAAAAAAGATAT,TAAAAAAAAA...  10088.400   PASS   \n",
       "1                                          ACCCCCACT  11705.800   PASS   \n",
       "2                                                  G    265.872   PASS   \n",
       "3                                                  T   8192.190   PASS   \n",
       "4                                                  A   6765.840   PASS   \n",
       "\n",
       "                                                INFO  \\\n",
       "0  AB=0,0,0;ABP=0,0,0;AC=0,7,0;AF=0,1,0;AN=7;AO=1...   \n",
       "1  AB=0;ABP=0;AC=7;AF=1;AN=7;AO=435;CIGAR=1M1I7M;...   \n",
       "2  AB=0;ABP=0;AC=1;AF=0.142857;AN=7;AO=248;CIGAR=...   \n",
       "3  AB=0;ABP=0;AC=7;AF=1;AN=7;AO=410;CIGAR=1X;DP=5...   \n",
       "4  AB=0;ABP=0;AC=6;AF=0.857143;AN=7;AO=398;CIGAR=...   \n",
       "\n",
       "                       FORMAT  \\\n",
       "0  GT:GQ:DP:AD:RO:QR:AO:QA:GL   \n",
       "1  GT:GQ:DP:AD:RO:QR:AO:QA:GL   \n",
       "2  GT:GQ:DP:AD:RO:QR:AO:QA:GL   \n",
       "3  GT:GQ:DP:AD:RO:QR:AO:QA:GL   \n",
       "4  GT:GQ:DP:AD:RO:QR:AO:QA:GL   \n",
       "\n",
       "                                                  M7  \\\n",
       "0  2:138:82:9,2,67,2:9:296:2,67,2:24,2218,68:-172...   \n",
       "1             1:137:90:9,81:9:295:81:2686:-215.126,0   \n",
       "2          0:131:104:76,28:76:2560:28:952:0,-144.672   \n",
       "3             1:160:98:9,89:9:306:89:2994:-241.841,0   \n",
       "4          1:134:104:11,93:11:374:93:3124:-247.418,0   \n",
       "\n",
       "                                                  M5  \\\n",
       "0  2:138:46:3,2,35,1:3:100:2,35,1:24,1116,34:-91....   \n",
       "1              1:137:53:1,50:1:34:50:1596:-140.656,0   \n",
       "2           0:131:80:52,28:52:1738:28:930:0,-72.6994   \n",
       "3           1:160:51:15,36:15:510:36:1186:-60.8115,0   \n",
       "4           1:134:67:20,47:20:658:47:1598:-84.5836,0   \n",
       "\n",
       "                                                  M4  \\\n",
       "0  2:138:69:4,4,59,1:4:132:4,59,1:48,1980,34:-166...   \n",
       "1              1:137:70:2,66:2:68:66:2184:-190.372,0   \n",
       "2          0:131:84:50,34:50:1596:34:1156:0,-39.5691   \n",
       "3           1:160:86:19,67:19:638:67:2240:-144.133,0   \n",
       "4           1:134:75:25,50:25:842:50:1692:-76.4771,0   \n",
       "\n",
       "                                                  M6  \\\n",
       "0  2:138:82:14,2,62,1:14:461:2,62,1:24,2092,26:-1...   \n",
       "1           1:137:82:11,70:11:359:70:2241:-169.324,0   \n",
       "2           0:131:89:61,28:61:2066:28:944:0,-100.949   \n",
       "3           1:160:90:15,75:15:488:75:2488:-179.952,0   \n",
       "4          1:134:102:26,76:26:846:76:2568:-154.943,0   \n",
       "\n",
       "                                                  C3  \\\n",
       "0  2:138:57:5,1,45,1:5:163:1,45,1:12,1492,34:-119...   \n",
       "1              1:137:45:5,40:5:169:40:1237:-96.064,0   \n",
       "2          1:131:83:36,47:36:1216:47:1598:-34.3706,0   \n",
       "3           1:160:70:26,44:26:862:44:1472:-54.8869,0   \n",
       "4              0:0:53:28,25:28:944:25:850:0,-8.45503   \n",
       "\n",
       "                                                  C2  \\\n",
       "0  2:138:69:1,0,60,4:1:34:0,60,4:0,1966,136:-173....   \n",
       "1              1:137:68:1,66:1:31:66:2174:-192.923,0   \n",
       "2         0:131:112:78,34:78:2630:34:1126:0,-135.322   \n",
       "3          1:160:81:31,50:31:1046:50:1662:-55.4182,0   \n",
       "4          1:134:92:35,57:35:1190:57:1938:-67.2984,0   \n",
       "\n",
       "                                                  C1  \n",
       "0  2:138:62:4,1,50,4:4:130:1,50,4:12,1678,128:-13...  \n",
       "1             1:137:69:4,62:4:126:62:2002:-168.787,0  \n",
       "2         0:131:112:63,49:63:2126:49:1658:0,-42.1062  \n",
       "3           1:160:71:22,49:22:748:49:1666:-82.5935,0  \n",
       "4          1:134:83:33,50:33:1084:50:1692:-54.7114,0  "
      ]
     },
     "execution_count": null,
     "metadata": {},
     "output_type": "execute_result"
    }
   ],
   "source": [
    "df_vcf.head()"
   ]
  },
  {
   "cell_type": "markdown",
   "metadata": {},
   "source": [
    "## 📝 From VCF Fields to counting reads for each allele\n",
    "\n",
    "```python\n",
    "┌─────────────────────────────────────────────────────────┐\n",
    "│ ALLELE FREQUENCY CALCULATION COMPONENTS                 │\n",
    "├─────────────────────────────────────────────────────────┤\n",
    "│ RO: Reference Allele Observation count                  │\n",
    "│ AO: Alternate Allele Observation count                  │\n",
    "│ DP: Total Read Depth at position                        │\n",
    "│                                                         │\n",
    "│ Allele Frequency = AO / DP                              │\n",
    "└─────────────────────────────────────────────────────────┘\n",
    "```\n"
   ]
  },
  {
   "cell_type": "code",
   "execution_count": null,
   "metadata": {},
   "outputs": [
    {
     "name": "stdout",
     "output_type": "stream",
     "text": [
      "✅ Extracted and expanded allele counts saved to allele_counts_expanded.tsv\n"
     ]
    }
   ],
   "source": [
    "df_allele_counts = expand_multiallelic_variants(df_vcf)\n",
    "df_allele_counts.to_csv(\"../data/allele_counts_expanded.tsv\", sep=\"\\t\", index=False)\n",
    "print(\"✅ Extracted and expanded allele counts saved to allele_counts_expanded.tsv\")"
   ]
  },
  {
   "cell_type": "code",
   "execution_count": null,
   "metadata": {},
   "outputs": [
    {
     "data": {
      "text/html": [
       "<div>\n",
       "<style scoped>\n",
       "    .dataframe tbody tr th:only-of-type {\n",
       "        vertical-align: middle;\n",
       "    }\n",
       "\n",
       "    .dataframe tbody tr th {\n",
       "        vertical-align: top;\n",
       "    }\n",
       "\n",
       "    .dataframe thead th {\n",
       "        text-align: right;\n",
       "    }\n",
       "</style>\n",
       "<table border=\"1\" class=\"dataframe\">\n",
       "  <thead>\n",
       "    <tr style=\"text-align: right;\">\n",
       "      <th></th>\n",
       "      <th>#CHROM</th>\n",
       "      <th>POS</th>\n",
       "      <th>REF</th>\n",
       "      <th>ALT</th>\n",
       "      <th>INFO_TYPE</th>\n",
       "      <th>RO_M7</th>\n",
       "      <th>DP_M7</th>\n",
       "      <th>AO_M7</th>\n",
       "      <th>RO_M5</th>\n",
       "      <th>DP_M5</th>\n",
       "      <th>...</th>\n",
       "      <th>AO_M6</th>\n",
       "      <th>RO_C3</th>\n",
       "      <th>DP_C3</th>\n",
       "      <th>AO_C3</th>\n",
       "      <th>RO_C2</th>\n",
       "      <th>DP_C2</th>\n",
       "      <th>AO_C2</th>\n",
       "      <th>RO_C1</th>\n",
       "      <th>DP_C1</th>\n",
       "      <th>AO_C1</th>\n",
       "    </tr>\n",
       "  </thead>\n",
       "  <tbody>\n",
       "    <tr>\n",
       "      <th>0</th>\n",
       "      <td>CM000429</td>\n",
       "      <td>60867</td>\n",
       "      <td>TAAAAAAAAAAGATAT</td>\n",
       "      <td>TAAAAAAAAAAAGATTT</td>\n",
       "      <td>complex</td>\n",
       "      <td>9</td>\n",
       "      <td>82</td>\n",
       "      <td>2</td>\n",
       "      <td>3</td>\n",
       "      <td>46</td>\n",
       "      <td>...</td>\n",
       "      <td>2</td>\n",
       "      <td>5</td>\n",
       "      <td>57</td>\n",
       "      <td>1</td>\n",
       "      <td>1</td>\n",
       "      <td>69</td>\n",
       "      <td>0</td>\n",
       "      <td>4</td>\n",
       "      <td>62</td>\n",
       "      <td>1</td>\n",
       "    </tr>\n",
       "    <tr>\n",
       "      <th>1</th>\n",
       "      <td>CM000429</td>\n",
       "      <td>60867</td>\n",
       "      <td>TAAAAAAAAAAGATAT</td>\n",
       "      <td>TAAAAAAAAAAAGATAT</td>\n",
       "      <td>ins</td>\n",
       "      <td>9</td>\n",
       "      <td>82</td>\n",
       "      <td>67</td>\n",
       "      <td>3</td>\n",
       "      <td>46</td>\n",
       "      <td>...</td>\n",
       "      <td>62</td>\n",
       "      <td>5</td>\n",
       "      <td>57</td>\n",
       "      <td>45</td>\n",
       "      <td>1</td>\n",
       "      <td>69</td>\n",
       "      <td>60</td>\n",
       "      <td>4</td>\n",
       "      <td>62</td>\n",
       "      <td>50</td>\n",
       "    </tr>\n",
       "    <tr>\n",
       "      <th>2</th>\n",
       "      <td>CM000429</td>\n",
       "      <td>60867</td>\n",
       "      <td>TAAAAAAAAAAGATAT</td>\n",
       "      <td>TAAAAAAAAAAAAGATAT</td>\n",
       "      <td>ins</td>\n",
       "      <td>9</td>\n",
       "      <td>82</td>\n",
       "      <td>2</td>\n",
       "      <td>3</td>\n",
       "      <td>46</td>\n",
       "      <td>...</td>\n",
       "      <td>1</td>\n",
       "      <td>5</td>\n",
       "      <td>57</td>\n",
       "      <td>1</td>\n",
       "      <td>1</td>\n",
       "      <td>69</td>\n",
       "      <td>4</td>\n",
       "      <td>4</td>\n",
       "      <td>62</td>\n",
       "      <td>4</td>\n",
       "    </tr>\n",
       "    <tr>\n",
       "      <th>3</th>\n",
       "      <td>CM000429</td>\n",
       "      <td>60889</td>\n",
       "      <td>ACCCCACT</td>\n",
       "      <td>ACCCCCACT</td>\n",
       "      <td>ins</td>\n",
       "      <td>9</td>\n",
       "      <td>90</td>\n",
       "      <td>81</td>\n",
       "      <td>1</td>\n",
       "      <td>53</td>\n",
       "      <td>...</td>\n",
       "      <td>70</td>\n",
       "      <td>5</td>\n",
       "      <td>45</td>\n",
       "      <td>40</td>\n",
       "      <td>1</td>\n",
       "      <td>68</td>\n",
       "      <td>66</td>\n",
       "      <td>4</td>\n",
       "      <td>69</td>\n",
       "      <td>62</td>\n",
       "    </tr>\n",
       "    <tr>\n",
       "      <th>4</th>\n",
       "      <td>CM000429</td>\n",
       "      <td>76625</td>\n",
       "      <td>A</td>\n",
       "      <td>G</td>\n",
       "      <td>snp</td>\n",
       "      <td>76</td>\n",
       "      <td>104</td>\n",
       "      <td>28</td>\n",
       "      <td>52</td>\n",
       "      <td>80</td>\n",
       "      <td>...</td>\n",
       "      <td>28</td>\n",
       "      <td>36</td>\n",
       "      <td>83</td>\n",
       "      <td>47</td>\n",
       "      <td>78</td>\n",
       "      <td>112</td>\n",
       "      <td>34</td>\n",
       "      <td>63</td>\n",
       "      <td>112</td>\n",
       "      <td>49</td>\n",
       "    </tr>\n",
       "  </tbody>\n",
       "</table>\n",
       "<p>5 rows × 26 columns</p>\n",
       "</div>"
      ],
      "text/plain": [
       "     #CHROM    POS               REF                 ALT INFO_TYPE  RO_M7  \\\n",
       "0  CM000429  60867  TAAAAAAAAAAGATAT   TAAAAAAAAAAAGATTT   complex      9   \n",
       "1  CM000429  60867  TAAAAAAAAAAGATAT   TAAAAAAAAAAAGATAT       ins      9   \n",
       "2  CM000429  60867  TAAAAAAAAAAGATAT  TAAAAAAAAAAAAGATAT       ins      9   \n",
       "3  CM000429  60889          ACCCCACT           ACCCCCACT       ins      9   \n",
       "4  CM000429  76625                 A                   G       snp     76   \n",
       "\n",
       "   DP_M7  AO_M7  RO_M5  DP_M5  ...  AO_M6  RO_C3  DP_C3  AO_C3  RO_C2  DP_C2  \\\n",
       "0     82      2      3     46  ...      2      5     57      1      1     69   \n",
       "1     82     67      3     46  ...     62      5     57     45      1     69   \n",
       "2     82      2      3     46  ...      1      5     57      1      1     69   \n",
       "3     90     81      1     53  ...     70      5     45     40      1     68   \n",
       "4    104     28     52     80  ...     28     36     83     47     78    112   \n",
       "\n",
       "   AO_C2  RO_C1  DP_C1  AO_C1  \n",
       "0      0      4     62      1  \n",
       "1     60      4     62     50  \n",
       "2      4      4     62      4  \n",
       "3     66      4     69     62  \n",
       "4     34     63    112     49  \n",
       "\n",
       "[5 rows x 26 columns]"
      ]
     },
     "execution_count": null,
     "metadata": {},
     "output_type": "execute_result"
    }
   ],
   "source": [
    "df_allele_counts.head()"
   ]
  },
  {
   "cell_type": "markdown",
   "metadata": {},
   "source": [
    "## 📝 Keep variants where one of the call as at least 5 supporting reads\n",
    "> shell we also remove complex? yes for now"
   ]
  },
  {
   "cell_type": "code",
   "execution_count": null,
   "metadata": {},
   "outputs": [
    {
     "name": "stdout",
     "output_type": "stream",
     "text": [
      "(1937, 26)\n",
      "(1121, 26)\n"
     ]
    }
   ],
   "source": [
    "print(df_allele_counts.shape)\n",
    "df_allele_counts = df_allele_counts[\n",
    "df_allele_counts[[n for n in df_allele_counts.columns if n.startswith('AO')]].max(axis=1)>=5]\n",
    "df_allele_counts = df_allele_counts[df_allele_counts['INFO_TYPE']!='complex']\n",
    "print(df_allele_counts.shape)"
   ]
  },
  {
   "cell_type": "code",
   "execution_count": null,
   "metadata": {},
   "outputs": [
    {
     "name": "stdout",
     "output_type": "stream",
     "text": [
      "✅ Allele frequencies saved to allele_frequencies.tsv\n"
     ]
    }
   ],
   "source": [
    "df_af = compute_frequencies(df_allele_counts)\n",
    "df_af.to_csv(\"../data/allele_frequencies.tsv\", sep=\"\\t\", index=False)\n",
    "print(\"✅ Allele frequencies saved to allele_frequencies.tsv\")"
   ]
  },
  {
   "cell_type": "code",
   "execution_count": null,
   "metadata": {},
   "outputs": [
    {
     "data": {
      "text/html": [
       "<div>\n",
       "<style scoped>\n",
       "    .dataframe tbody tr th:only-of-type {\n",
       "        vertical-align: middle;\n",
       "    }\n",
       "\n",
       "    .dataframe tbody tr th {\n",
       "        vertical-align: top;\n",
       "    }\n",
       "\n",
       "    .dataframe thead th {\n",
       "        text-align: right;\n",
       "    }\n",
       "</style>\n",
       "<table border=\"1\" class=\"dataframe\">\n",
       "  <thead>\n",
       "    <tr style=\"text-align: right;\">\n",
       "      <th></th>\n",
       "      <th>#CHROM</th>\n",
       "      <th>POS</th>\n",
       "      <th>REF</th>\n",
       "      <th>ALT</th>\n",
       "      <th>AF_M7</th>\n",
       "      <th>AF_M5</th>\n",
       "      <th>AF_M4</th>\n",
       "      <th>AF_M6</th>\n",
       "      <th>AF_C3</th>\n",
       "      <th>AF_C2</th>\n",
       "      <th>AF_C1</th>\n",
       "    </tr>\n",
       "  </thead>\n",
       "  <tbody>\n",
       "    <tr>\n",
       "      <th>1</th>\n",
       "      <td>CM000429</td>\n",
       "      <td>60867</td>\n",
       "      <td>TAAAAAAAAAAGATAT</td>\n",
       "      <td>TAAAAAAAAAAAGATAT</td>\n",
       "      <td>0.817073</td>\n",
       "      <td>0.760870</td>\n",
       "      <td>0.855072</td>\n",
       "      <td>0.756098</td>\n",
       "      <td>0.789474</td>\n",
       "      <td>0.869565</td>\n",
       "      <td>0.806452</td>\n",
       "    </tr>\n",
       "    <tr>\n",
       "      <th>3</th>\n",
       "      <td>CM000429</td>\n",
       "      <td>60889</td>\n",
       "      <td>ACCCCACT</td>\n",
       "      <td>ACCCCCACT</td>\n",
       "      <td>0.900000</td>\n",
       "      <td>0.943396</td>\n",
       "      <td>0.942857</td>\n",
       "      <td>0.853659</td>\n",
       "      <td>0.888889</td>\n",
       "      <td>0.970588</td>\n",
       "      <td>0.898551</td>\n",
       "    </tr>\n",
       "    <tr>\n",
       "      <th>4</th>\n",
       "      <td>CM000429</td>\n",
       "      <td>76625</td>\n",
       "      <td>A</td>\n",
       "      <td>G</td>\n",
       "      <td>0.269231</td>\n",
       "      <td>0.350000</td>\n",
       "      <td>0.404762</td>\n",
       "      <td>0.314607</td>\n",
       "      <td>0.566265</td>\n",
       "      <td>0.303571</td>\n",
       "      <td>0.437500</td>\n",
       "    </tr>\n",
       "    <tr>\n",
       "      <th>5</th>\n",
       "      <td>CM000429</td>\n",
       "      <td>82019</td>\n",
       "      <td>A</td>\n",
       "      <td>T</td>\n",
       "      <td>0.908163</td>\n",
       "      <td>0.705882</td>\n",
       "      <td>0.779070</td>\n",
       "      <td>0.833333</td>\n",
       "      <td>0.628571</td>\n",
       "      <td>0.617284</td>\n",
       "      <td>0.690141</td>\n",
       "    </tr>\n",
       "    <tr>\n",
       "      <th>6</th>\n",
       "      <td>CM000429</td>\n",
       "      <td>82192</td>\n",
       "      <td>G</td>\n",
       "      <td>A</td>\n",
       "      <td>0.894231</td>\n",
       "      <td>0.701493</td>\n",
       "      <td>0.666667</td>\n",
       "      <td>0.745098</td>\n",
       "      <td>0.471698</td>\n",
       "      <td>0.619565</td>\n",
       "      <td>0.602410</td>\n",
       "    </tr>\n",
       "  </tbody>\n",
       "</table>\n",
       "</div>"
      ],
      "text/plain": [
       "     #CHROM    POS               REF                ALT     AF_M7     AF_M5  \\\n",
       "1  CM000429  60867  TAAAAAAAAAAGATAT  TAAAAAAAAAAAGATAT  0.817073  0.760870   \n",
       "3  CM000429  60889          ACCCCACT          ACCCCCACT  0.900000  0.943396   \n",
       "4  CM000429  76625                 A                  G  0.269231  0.350000   \n",
       "5  CM000429  82019                 A                  T  0.908163  0.705882   \n",
       "6  CM000429  82192                 G                  A  0.894231  0.701493   \n",
       "\n",
       "      AF_M4     AF_M6     AF_C3     AF_C2     AF_C1  \n",
       "1  0.855072  0.756098  0.789474  0.869565  0.806452  \n",
       "3  0.942857  0.853659  0.888889  0.970588  0.898551  \n",
       "4  0.404762  0.314607  0.566265  0.303571  0.437500  \n",
       "5  0.779070  0.833333  0.628571  0.617284  0.690141  \n",
       "6  0.666667  0.745098  0.471698  0.619565  0.602410  "
      ]
     },
     "execution_count": null,
     "metadata": {},
     "output_type": "execute_result"
    }
   ],
   "source": [
    "df_af.head()"
   ]
  },
  {
   "cell_type": "markdown",
   "metadata": {},
   "source": [
    "## 🔍 Frequency Distribution Analysis\n",
    "\n",
    "> With our extracted allele frequencies in hand, we could now explore how these frequencies were distributed across our samples\n",
    "\n"
   ]
  },
  {
   "cell_type": "code",
   "execution_count": null,
   "metadata": {},
   "outputs": [
    {
     "data": {
      "image/png": "[encoded data removed]",
      "text/plain": [
       "<Figure size 800x400 with 1 Axes>"
      ]
     },
     "metadata": {},
     "output_type": "display_data"
    }
   ],
   "source": [
    "fig,ax=plt.subplots(figsize=(8,4))\n",
    "data=pd.read_csv('../data/allele_frequencies.tsv',sep='\\t')\n",
    "tmp = pd.Series(data.iloc[:,4:].values.flatten())\n",
    "tmp.name='All Samples'\n",
    "tmp.plot(kind='hist',histtype='step',bins=50,ax=ax,linewidth=1)\n",
    "ax.set_xlabel('Alternate Allele Frequency')\n",
    "ax.set_ylabel('Counts')\n",
    "mod_hist_legend(ax)\n",
    "clean_axes(ax)\n",
    "plt.show()"
   ]
  },
  {
   "cell_type": "markdown",
   "metadata": {},
   "source": [
    "- **Expected in clonal samples**: Frequencies clustered at extremes (0 or 1)\n",
    "  - 0: Reference allele only\n",
    "  - 1: Alternative allele only\n",
    "\n",
    "> *\"The presence of allele frequencies distinctly deviating from the expected 0/1 pattern confirms our hypothesis that mouse M4 harbors a heterogeneous Cryptosporidium population with multiple strains coexisting\"*\n"
   ]
  },
  {
   "cell_type": "markdown",
   "metadata": {},
   "source": [
    "# 🔬 Focusing on Single Nucleotide Variants\n",
    "\n",
    "> To gain deeper insight into the evolutionary dynamics of our Cryptosporidium populations, we narrowed our analysis to focus specifically on Single Nucleotide Variants (SNVs).\n",
    "\n",
    "\n",
    "```python\n",
    "┌─────────────────────────────────────────────────────────┐\n",
    "│ SNV CLUSTERING WORKFLOW                                 │\n",
    "├─────────────────────────────────────────────────────────┤\n",
    "│ 1. Filter dataset to retain only SNVs                   │    \n",
    "│ 2. Normalize frequencies (divide by max frequency)      │\n",
    "│ 4. Include only variants with >30% frequency            │\n",
    "│    difference between any two samples                   │\n",
    "│ 5. Perform hierarchical clustering                      │\n",
    "│ 6. Visualize dendrogram                                 │\n",
    "└─────────────────────────────────────────────────────────┘\n",
    "```\n"
   ]
  },
  {
   "cell_type": "code",
   "execution_count": null,
   "metadata": {},
   "outputs": [
    {
     "name": "stdout",
     "output_type": "stream",
     "text": [
      "step 1 starting variants: (1121, 11)\n",
      "step 2 only snv variants: (511, 11)\n",
      "selected variants: (129, 7)\n"
     ]
    },
    {
     "data": {
      "image/png": "[encoded data removed]",
      "text/plain": [
       "<Figure size 400x600 with 4 Axes>"
      ]
     },
     "metadata": {},
     "output_type": "display_data"
    }
   ],
   "source": [
    "data=pd.read_csv('../data/allele_frequencies.tsv',sep='\\t')\n",
    "print(f'step 1 starting variants: {data.shape}')\n",
    "data=data[(data['ALT'].str.len()==1)]\n",
    "print(f'step 2 only snv variants: {data.shape}')\n",
    "\n",
    "clustering_data = data[['AF_M7', 'AF_M5', 'AF_M6', 'AF_M4','AF_C3', 'AF_C2', 'AF_C1']]\n",
    "clustering_data = clustering_data.divide(clustering_data.max(axis=1),axis=0)\n",
    "clustering_max=clustering_data.max(axis=1)\n",
    "clustering_min=clustering_data.min(axis=1)\n",
    "clustering_data = clustering_data[(clustering_max-clustering_min)>0.3]\n",
    "print('selected variants:', clustering_data.shape)\n",
    "sns.clustermap(clustering_data,cmap='Blues',figsize=(4,6))\n",
    "plt.savefig('../data/Allele_Frequency_SNVs.svg')\n",
    "plt.savefig('../data/Allele_Frequency_SNVs.png')"
   ]
  },
  {
   "cell_type": "markdown",
   "metadata": {},
   "source": [
    "\n",
    "## 🧬 Distinct Evolutionary Trajectories Revealed\n",
    "\n",
    "The hierarchical clustering dendrogram revealed several patterns:\n",
    "\n",
    "1. **Clear Host-Species Separation**: \n",
    "   > *\"The clustering  segregated bovine and murine samples, suggesting host specific pressure on the Cryptosporidium population.\"*\n",
    "\n",
    "2. **Temporal Evolution in Murine Hosts**:\n",
    "   > *\"The murine samples displayed a clear temporal progression, with M6 and M7 clustering distinctly from the earlier passages (M4-M5).\"*\n",
    "\n",
    "3. **Similarity Between Early Murine and Bovine Samples**:\n",
    "   > *\"The three bovine samples (C1-C3) showed greater similarity to the early murine passages (M4-M5) than to the later murine passages (M6-M7). \n",
    "   Bovine adaptation might be slower to kick in.\"*"
   ]
  },
  {
   "cell_type": "markdown",
   "metadata": {},
   "source": [
    "## Determining Optimal Number of SNV Clusters\n",
    "> Upon visual inspection of the hierarchical clustering dendrogram, we observed what appeared to be 3-4 distinct clusters of variants. To validate this initial observation and determine the optimal number of clusters more objectively, we employed two widely-used cluster validation techniques: the silhouette method and elbow analysis."
   ]
  },
  {
   "cell_type": "code",
   "execution_count": null,
   "metadata": {},
   "outputs": [
    {
     "data": {
      "text/plain": [
       "<Axes: title={'center': 'K-means Evaluation'}, xlabel='Number of Clusters (k)', ylabel='Normalized Score'>"
      ]
     },
     "execution_count": null,
     "metadata": {},
     "output_type": "execute_result"
    },
    {
     "data": {
      "image/png": "[encoded data removed]",
      "text/plain": [
       "<Figure size 600x500 with 1 Axes>"
      ]
     },
     "metadata": {},
     "output_type": "display_data"
    }
   ],
   "source": [
    "fig, ax, inertia_values, silhouette_values = kmeans_cluster_analysis(\n",
    "    clustering_data,\n",
    "    cluster_sizes=[1,2,3,4,5,6,7,8],\n",
    "    figsize=(6,5)\n",
    ")\n",
    "clean_axes(ax)"
   ]
  },
  {
   "cell_type": "markdown",
   "metadata": {},
   "source": [
    "## Validation Results Support Three Main Clusters\n",
    "\n",
    "> Our quantitative cluster validation analyses strongly confirm our initial visual assessment. The Silhouette analysis reveals comparable values for cluster numbers between 2 and 4, with scores declining steadily beyond 5 clusters. Meanwhile, the helbow plot displays a clear inflection point at 3 clusters.\n",
    "Based on these complementary validation techniques, we can confidently determine that three represents the optimal number of clusters for our dataset. "
   ]
  },
  {
   "cell_type": "code",
   "execution_count": null,
   "metadata": {},
   "outputs": [
    {
     "data": {
      "image/png": "[encoded data removed]",
      "text/plain": [
       "<Figure size 800x500 with 1 Axes>"
      ]
     },
     "metadata": {},
     "output_type": "display_data"
    }
   ],
   "source": [
    "from sklearn.cluster import KMeans\n",
    "kmeans = KMeans(n_clusters=3, random_state=42, n_init=10)\n",
    "kmeans.fit(clustering_data[['AF_M7','AF_M6','AF_M5','AF_M4','AF_C1','AF_C2','AF_C3']])\n",
    "clustering_data['cluster']=kmeans.labels_\n",
    "\n",
    "fig, ax = plt.subplots(figsize=(8, 5))\n",
    "for c in clustering_data.cluster.unique():\n",
    "    cluster_data = clustering_data[clustering_data['cluster']==c][['AF_M7','AF_M6','AF_M5','AF_M4',\n",
    "                              'AF_C1','AF_C2','AF_C3']]\n",
    "    \n",
    "    # Plot the mean\n",
    "    means = cluster_data.mean()\n",
    "    means.plot(ax=ax, label=f'Cluster: {c}', linewidth=2.0)\n",
    "    \n",
    "    # Add shaded area for std\n",
    "    upper = means + cluster_data.std()\n",
    "    lower = means - cluster_data.std()\n",
    "    ax.fill_between(range(len(means)), lower, upper, alpha=0.1)\n",
    "\n",
    "ax.legend(loc='center left', bbox_to_anchor=(1, 0.5))\n",
    "if 'clean_axes' in globals():\n",
    "    clean_axes(ax)\n",
    "plt.title('Cluster Mean Values')\n",
    "plt.xticks(range(7), ['AF_M7','AF_M6','AF_M5','AF_M4','AF_C1','AF_C2','AF_C3'], rotation=45)\n",
    "plt.tight_layout()\n",
    "plt.show()"
   ]
  },
  {
   "cell_type": "markdown",
   "metadata": {},
   "source": [
    "## Evolutionary trajectories :\n",
    "\n",
    "> When plotting the mean values of variants within each cluster, we observe three distinct evolutionary trajectories:\n",
    "> - Dramatic Increase Cluster: Variants that show a substantial frequency increase in later mouse passages (M6 and M7)\n",
    "> - Moderate Increase Cluster: Variants with a modest frequency increase in M6 and M7\n",
    "> - Decrease Cluster: Variants that exhibit declining frequency in M6 and M7\n",
    "\n",
    "Notably, across all three clusters, the variant frequencies in early mouse passages (M4 and M5) remain similar to those observed in all bovine passages (C1, C2, and C3). This pattern suggests that significant evolutionary divergence between host lineages begins after the second mouse passage, while the bovine lineage maintains greater genetic similarity to the original population."
   ]
  },
  {
   "cell_type": "markdown",
   "metadata": {},
   "source": [
    "## Future Directions: Correlating Cluster Patterns with GO Annotations\n",
    "> Having established three distinct clusters of SNV frequency patterns that correlate with host adaptation trajectories, we plan to extend this analysis by integrating Gene Ontology (GO) annotations. This functional enrichment approach will allow us to determine whether these evolutionary clusters represent coordinated changes in specific biological pathways or molecular functions."
   ]
  },
  {
   "cell_type": "code",
   "execution_count": null,
   "metadata": {},
   "outputs": [],
   "source": []
  },
  {
   "cell_type": "markdown",
   "metadata": {},
   "source": [
    "## 🔍 Frequency Distribution Analysis SNVs"
   ]
  },
  {
   "cell_type": "code",
   "execution_count": null,
   "metadata": {},
   "outputs": [],
   "source": [
    "fig,ax=plt.subplots(figsize=(8,4))\n",
    "tmp = pd.Series(data.iloc[:,4:].values.flatten())\n",
    "tmp.name='SNVs'\n",
    "tmp.plot(kind='hist',histtype='step',bins=50,ax=ax,linewidth=1)\n",
    "ax.set_xlabel('Alternate Allele Frequency')\n",
    "ax.set_ylabel('Counts')\n",
    "mod_hist_legend(ax)\n",
    "clean_axes(ax)\n",
    "plt.show()"
   ]
  },
  {
   "cell_type": "markdown",
   "metadata": {},
   "source": [
    "## From SNVs to INDELs: Exploring Different Variant Dynamics\n",
    "\n",
    "> While our overall frequency analysis revealed peaks near 0 and 1 across all variants, SNVs are predominantly clustered at higher frequencies (>0.4). This observation raises an important question: what's happening with INDELs to create this contrast? To understand this difference, we next focused specifically on INDEL frequency distributions, which might reveal distinct evolutionary dynamics for these structural variants compared to point mutations."
   ]
  },
  {
   "cell_type": "code",
   "execution_count": null,
   "metadata": {},
   "outputs": [],
   "source": []
  },
  {
   "cell_type": "markdown",
   "metadata": {},
   "source": [
    "# 🔬 Focusing on INDELS\n",
    "> Having established clear evolutionary patterns through SNV analysis, we extended our investigation to insertions and deletions (INDELs) using the same strategy"
   ]
  },
  {
   "cell_type": "code",
   "execution_count": null,
   "metadata": {},
   "outputs": [],
   "source": [
    "data=pd.read_csv('../data/allele_frequencies.tsv',sep='\\t')\n",
    "print(f'step 1 starting variants: {data.shape}')\n",
    "data=data[(data['ALT'].str.len()!=1)]\n",
    "print(f'step 2 only snv variants: {data.shape}')\n",
    "\n",
    "clustering_data = data[['AF_M7', 'AF_M5', 'AF_M6', 'AF_M4','AF_C3', 'AF_C2', 'AF_C1']]\n",
    "clustering_data = clustering_data.divide(clustering_data.max(axis=1),axis=0)\n",
    "clustering_max=clustering_data.max(axis=1)\n",
    "clustering_min=clustering_data.min(axis=1)\n",
    "clustering_data = clustering_data[(clustering_max-clustering_min)>0.3]\n",
    "\n",
    "print('selected variants:', clustering_data.shape)\n",
    "sns.clustermap(clustering_data,cmap='Blues',figsize=(4,6))\n",
    "plt.savefig('../data/Allele_Frequency_INDELs.svg')\n",
    "plt.savefig('../data/Allele_Frequency_INDELs.png')"
   ]
  },
  {
   "cell_type": "markdown",
   "metadata": {},
   "source": [
    "## 🧬 Distinct Clustering Patterns in INDELs\n",
    "\n",
    "When applying our clustering strategy to INDELs, we observed strikingly different patterns from those seen with SNVs\n",
    "\n",
    ">*\"The most striking feature of our INDEL analysis is the emergence of sample specific variant clusters\"*  or in ther words, sample specific groups of INDELs\n",
    "\n"
   ]
  },
  {
   "cell_type": "markdown",
   "metadata": {},
   "source": [
    "## 🔍 Frequency Distribution Analysis SNVs"
   ]
  },
  {
   "cell_type": "code",
   "execution_count": null,
   "metadata": {},
   "outputs": [],
   "source": [
    "fig,ax=plt.subplots(figsize=(8,4))\n",
    "tmp = pd.Series(data.iloc[:,4:].values.flatten())\n",
    "tmp.name='INDELs'\n",
    "tmp.plot(kind='hist',histtype='step',bins=50,ax=ax,linewidth=1)\n",
    "ax.set_xlabel('Alternate Allele Frequency')\n",
    "ax.set_ylabel('Counts')\n",
    "mod_hist_legend(ax)\n",
    "clean_axes(ax)\n",
    "plt.show()"
   ]
  },
  {
   "cell_type": "markdown",
   "metadata": {},
   "source": [
    "## 📊 Accelerated INDEL Evolution\n",
    "\n",
    "> *\"The predominance of low-frequency INDELs compared to the SNVs frequencies suggests fundamentally different evolutionary dynamics: while SNVs appear to undergo gradual selection toward fixation, INDELs display a pattern of rapid emergence and turnover, generating a diverse array of transient subpopulations within each sample.\"*"
   ]
  },
  {
   "cell_type": "markdown",
   "metadata": {},
   "source": [
    "# Genome-Wide Distribution: Mapping Variants Across the Cryptosporidium Genome\n",
    "\n",
    "## 🔍 Taking a Broader Perspective\n",
    "\n",
    "> Having explored the dynamics of both SNVs and INDELs through clustering analyses, we stepped back to examine the holistic picture of where these variants are distributed across the Cryptosporidium genome.\n"
   ]
  },
  {
   "cell_type": "code",
   "execution_count": null,
   "metadata": {},
   "outputs": [],
   "source": [
    "data=pd.read_csv('../data/allele_frequencies.tsv',sep='\\t')\n",
    "make_circos_plot(data)"
   ]
  },
  {
   "cell_type": "markdown",
   "metadata": {},
   "source": [
    "## 🧬 Genomic Distribution Patterns\n",
    "\n",
    "The circular genome plot revealed several striking patterns:\n",
    "\n",
    "> *\"The distribution of variants across the Cryptosporidium genome is strikingly non-random, with clear hotspots of both SNVs and INDELs congregating in specific genomic regions other then close to the telomers.\"*\n",
    "\n"
   ]
  },
  {
   "cell_type": "code",
   "execution_count": null,
   "metadata": {},
   "outputs": [],
   "source": []
  },
  {
   "cell_type": "code",
   "execution_count": null,
   "metadata": {},
   "outputs": [],
   "source": []
  },
  {
   "cell_type": "markdown",
   "metadata": {},
   "source": [
    "# High Impact Variants: Tracking Protein-Altering Mutations\n",
    "## 🧬 Decoding Functional Consequences\n",
    "\n",
    "> With our variants  annotated using SnpEff, we can now delve deeper into their functional implications—moving beyond mere genomic positions to understand how these mutations potentially reshape Cryptosporidium biology."
   ]
  },
  {
   "cell_type": "markdown",
   "metadata": {},
   "source": [
    "Let's select again our SNV dataset used for clustering and add the INFO field from the vcf file "
   ]
  },
  {
   "cell_type": "code",
   "execution_count": null,
   "metadata": {},
   "outputs": [],
   "source": [
    "#| hide\n",
    "data=pd.read_csv('../data/allele_frequencies.tsv',sep='\\t')\n",
    "data=data[data['ALT'].str.len()==1]\n",
    "data = data.set_index(['#CHROM','POS'])\n",
    "print(data.shape)\n",
    "\n",
    "filterining_data = data[['AF_M7', 'AF_M5', 'AF_M6', 'AF_M4','AF_C3', 'AF_C2', 'AF_C1']]\n",
    "filterining_data = filterining_data.divide(filterining_data.max(axis=1),axis=0)\n",
    "filterining_max=filterining_data.max(axis=1)\n",
    "filterining_min=filterining_data.min(axis=1)\n",
    "data = filterining_data[(filterining_max-filterining_min)>0.3]\n",
    "print(data.shape)\n",
    "\n",
    "df_vcf = read_vcf( \"../data/filtered_final.vcf\")\n",
    "df_vcf = df_vcf.set_index(['#CHROM','POS'])\n",
    "df_vcf=df_vcf.loc[data.index.values][['INFO']]\n",
    "data = data.join(df_vcf)"
   ]
  },
  {
   "cell_type": "markdown",
   "metadata": {},
   "source": [
    "> We use a parsing strategy to extract key annotation components from SnpEff\n"
   ]
  },
  {
   "cell_type": "code",
   "execution_count": null,
   "metadata": {},
   "outputs": [],
   "source": [
    "data = add_ann_info_to_df(data)\n",
    "del data['INFO']\n",
    "data.head()"
   ]
  },
  {
   "cell_type": "markdown",
   "metadata": {},
   "source": [
    "## Variant Type Distribution and High-Impact Mutations\n",
    "\n",
    "> After extracting SnpEff annotations, we analyzed the distribution of variant types across impact categories "
   ]
  },
  {
   "cell_type": "code",
   "execution_count": null,
   "metadata": {},
   "outputs": [],
   "source": [
    "data['impact'].value_counts()"
   ]
  },
  {
   "cell_type": "markdown",
   "metadata": {},
   "source": [
    "> Intriguingly, we identified only two HIGH impact variants in our dataset, lets have a look 🔍"
   ]
  },
  {
   "cell_type": "code",
   "execution_count": null,
   "metadata": {},
   "outputs": [],
   "source": [
    "data[data['impact']=='HIGH']"
   ]
  },
  {
   "cell_type": "markdown",
   "metadata": {},
   "source": [
    "> we created trajectory visualizations that track their frequencies across sequential passages in both lineages."
   ]
  },
  {
   "cell_type": "markdown",
   "metadata": {},
   "source": [
    "### Plot trajectory in mouse and cow"
   ]
  },
  {
   "cell_type": "code",
   "execution_count": null,
   "metadata": {},
   "outputs": [],
   "source": [
    "fig,axes = plt.subplots(figsize = (10,4), ncols=2,sharey=True)\n",
    "data[data['impact']=='HIGH'][['AF_M4','AF_M5','AF_M6','AF_M7']].T.plot(ax=axes[0])\n",
    "clean_axes(axes[0]).set_title('MOUSE')\n",
    "data[data['impact']=='HIGH'][['AF_M4','AF_C1','AF_C2','AF_C3']].T.plot(ax=axes[1])\n",
    "clean_axes(axes[1]).set_title('COW')\n",
    "plt.ylim(0,1.1)\n",
    "plt.show()"
   ]
  },
  {
   "cell_type": "markdown",
   "metadata": {},
   "source": [
    "### Key Variant Trajectories\n",
    "\n",
    "One variant located at **CM000436:170586** (in gene **cgd8_670**) displays a  pattern of negative selection in both host lineages:\n",
    "\n",
    "- In mouse passages: Frequency steadily decreases from  M4 to  M7\n",
    "- In cow passages: Similar downward trend more evident at C3\n",
    "\n",
    "The variant at **CM000435:620700** (in gene **cgd7_2620**) shows a host-dependent pattern:\n",
    "\n",
    "- In mouse passages: Frequency increases \n",
    "- In cow passages: Frequency remains relatively stable\n"
   ]
  },
  {
   "cell_type": "code",
   "execution_count": null,
   "metadata": {},
   "outputs": [],
   "source": []
  },
  {
   "cell_type": "code",
   "execution_count": null,
   "metadata": {},
   "outputs": [],
   "source": []
  },
  {
   "cell_type": "markdown",
   "metadata": {},
   "source": [
    "### Reproducibility"
   ]
  },
  {
   "cell_type": "markdown",
   "metadata": {},
   "source": [
    "Install latest from the GitHub [repository][repo]:\n",
    "\n",
    "```sh\n",
    "$ pip install git+https://github.com/mtinti/cryptosporidium_host_adaptation.git\n",
    "```\n",
    "> In your env you want:\n",
    "- samtools (Version: 1.21) \n",
    "- bcftools (Version: 1.21)\n",
    "\n",
    "[repo]: https://github.com/mtinti/cryptosporidium_host_adaptation\n"
   ]
  },
  {
   "cell_type": "code",
   "execution_count": null,
   "metadata": {},
   "outputs": [],
   "source": []
  },
  {
   "cell_type": "code",
   "execution_count": null,
   "metadata": {},
   "outputs": [],
   "source": [
    "#| hide\n",
    "import nbdev; nbdev.nbdev_export()"
   ]
  },
  {
   "cell_type": "code",
   "execution_count": null,
   "metadata": {},
   "outputs": [],
   "source": []
  },
  {
   "cell_type": "code",
   "execution_count": null,
   "metadata": {},
   "outputs": [],
   "source": []
  },
  {
   "cell_type": "code",
   "execution_count": null,
   "metadata": {},
   "outputs": [],
   "source": []
  },
  {
   "cell_type": "code",
   "execution_count": null,
   "metadata": {},
   "outputs": [],
   "source": []
  }
 ],
 "metadata": {
  "kernelspec": {
   "display_name": "delightful_data_analysis",
   "language": "python",
   "name": "delightful_data_analysis"
  }
 },
 "nbformat": 4,
 "nbformat_minor": 4
}
