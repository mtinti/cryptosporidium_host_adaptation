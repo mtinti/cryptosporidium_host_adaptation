{
 "cells": [
  {
   "cell_type": "code",
   "execution_count": null,
   "metadata": {},
   "outputs": [],
   "source": [
    "#| hide\n",
    "%load_ext autoreload\n",
    "%autoreload 2"
   ]
  },
  {
   "cell_type": "code",
   "execution_count": null,
   "metadata": {},
   "outputs": [],
   "source": [
    "#| hide\n",
    "from cryptosporidium_host_adaptation.core import *\n",
    "import matplotlib.pyplot as plt\n",
    "import pandas as pd"
   ]
  },
  {
   "cell_type": "markdown",
   "metadata": {},
   "source": [
    "# This guide is best visualized [HERE]\n",
    "\n",
    "[HERE]: https://mtinti.github.io/cryptosporidium_host_adaptation/"
   ]
  },
  {
   "cell_type": "markdown",
   "metadata": {},
   "source": [
    "# Divergent Pathways: Tracking Cryptosporidium's Host Adaptation"
   ]
  },
  {
   "cell_type": "markdown",
   "metadata": {},
   "source": [
    "## The Origin: Strain M4"
   ]
  },
  {
   "cell_type": "markdown",
   "metadata": {},
   "source": [
    "Our journey begins with a single infected mouse (M4), harboring a Cryptosporidium strain that would become the progenitor of two distinct evolutionary paths. This initial host served as the critical branching point for our experimental design.\n",
    "\n",
    "From this single origin, the parasite's story split into two parallel narratives:\n",
    "\n",
    "### 🐭 The Murine Passage 🐭\n",
    "> In this pathway, Cryptosporidium continued its journey through a series of mouse hosts, adapting to the murine environment through sequential passages:\n",
    "\n",
    "```\n",
    "M4 → M5 → M6 → M7\n",
    "```\n",
    "\n",
    "Each passage potentially allowed the parasite to optimize its survival and reproductive strategies within these genetically similar mammalian hosts.\n",
    "\n",
    "### 🐄 The Bovine Passage 🐄\n",
    "> Simultaneously, we challenged the adaptability of the same initial strain by introducing it to an entirely different mammalian lineage - neonatal calves:\n",
    "\n",
    "```\n",
    "M4 → C1 → C2 → C3\n",
    "```\n",
    "\n",
    "This cross-species transmission forced the parasite to navigate a dramatically different physiological environment, potentially driving rapid adaptation.\n"
   ]
  },
  {
   "cell_type": "markdown",
   "metadata": {},
   "source": [
    "## 🧬 Specialized Variant Calling Strategy 🧬\n",
    "\n",
    "The progenitor Cryptosporidium population in mouse M4 wasn't a homogeneous colony, but rather a **diverse mixture of strains**. \n",
    "\n",
    ">This discovery fundamentally shaped our analytical approach.\n",
    "\n",
    "To capture the true genetic complexity within our samples, we implemented a customized variant calling pipeline:\n",
    "\n",
    "```\n",
    "┌────────────────────────────────┐\n",
    "│ FREEBAYES VARIANT CALLING      │\n",
    "├────────────────────────────────┤\n",
    "│ • Ploidy = 1                   │\n",
    "│ • --pooled-continuous option   │\n",
    "└────────────────────────────────┘\n",
    "```\n",
    "\n",
    "Why This Approach Matters?\n",
    "\n",
    "1. **Beyond Binary Detection**:\n",
    "> Traditional presence/absence variant calling would have flattened the rich complexity of our samples, obscuring the very phenomenon we aimed to study.\n",
    "\n",
    "3. **Quantitative Insight**:\n",
    "> By focusing on allele frequencies rather than simple variant calls, will allow us to track subtle shifts in population genetics across hosts.\n"
   ]
  },
  {
   "cell_type": "markdown",
   "metadata": {},
   "source": [
    "# Variant Analysis: Filtering Strategy\n",
    "\n",
    "Our approach employed a strategic sequence of filtering steps, each addressing specific aspects of data quality:\n",
    "\n",
    "```\n",
    "┌─────────────────────────────────────┐\n",
    "│ THREE-TIER FILTERING STRATEGY       │\n",
    "├─────────────────────────────────────┤\n",
    "│ 1. Quality-based Filtering          │\n",
    "│ 2. Read Depth Optimization          │\n",
    "│ 3. Variant Type Selection           │\n",
    "└─────────────────────────────────────┘\n",
    "```"
   ]
  },
  {
   "cell_type": "code",
   "execution_count": null,
   "metadata": {},
   "outputs": [
    {
     "name": "stdout",
     "output_type": "stream",
     "text": [
      "======================================\n",
      "Starting Variant Filtering Process\n",
      "======================================\n",
      "Total variants before filtering: 15901\n",
      "Stage 1: QUAL filtering: 14087 Variants removed and 1814 variants left\n",
      "Stage 2: FORMAT/DP filtering, DP >= 30 & DP <= 150: 355 Variants removed and 1459 variants left\n",
      "Stage 3: After keeping SNPs and indels: 203 Variants removed and 1256 variants left\n"
     ]
    }
   ],
   "source": [
    "filter_variants()"
   ]
  },
  {
   "cell_type": "markdown",
   "metadata": {},
   "source": [
    "### Stage 1: Quality-Based Filtering\n",
    "\n",
    "```bash\n",
    "# Eliminate low confidence variant calls\n",
    "bcftools filter -e 'QUAL < 30' \"$INPUT_VCF\" -o \"$QUAL_FILTERED_VCF\"\n",
    "```\n",
    "\n",
    "**Rationale**: The QUAL score represents the statistical confidence in each variant call. By establishing a minimum threshold of 30:\n",
    "- We eliminated variants likely to be sequencing errors\n",
    "- Retained variants with a 99.9% probability of being genuine\n",
    "\n",
    "### Stage 2: Read Depth Optimization\n",
    "\n",
    "```bash\n",
    "# Balance between coverage requirements and anomalous amplification\n",
    "bcftools view -i 'FMT/DP >= 30 & FMT/DP <= 150' \"$QUAL_FILTERED_VCF\" -o \"$DP_FILTERED_VCF\"\n",
    "```\n",
    "\n",
    "**Rationale**: Read depth optimization addressed two critical concerns:\n",
    "- **Lower bound (DP ≥ 30)**: Ensured sufficient read coverage\n",
    "- **Upper bound (DP ≤ 150)**: Protected against false positives from regions with anomalous read pileups which often indicate repetitive elements\n",
    "\n",
    "\n",
    "### Stage 3: Variant Type Selection\n",
    "\n",
    "```bash\n",
    "# Focus on  variation subset\n",
    "bcftools view -v snps,indels \"$DP_FILTERED_VCF\" -o \"$SNP_FILTERED_VCF\"\n",
    "```\n",
    "**Rationale**: This final step ensured our analysis focused exclusively on:\n",
    "\n",
    "- Single nucleotide polymorphisms (SNPs)\n",
    "- Small insertions and deletions (indels)"
   ]
  },
  {
   "cell_type": "code",
   "execution_count": null,
   "metadata": {},
   "outputs": [],
   "source": []
  },
  {
   "cell_type": "code",
   "execution_count": null,
   "metadata": {},
   "outputs": [],
   "source": []
  },
  {
   "cell_type": "code",
   "execution_count": null,
   "metadata": {},
   "outputs": [],
   "source": []
  },
  {
   "cell_type": "code",
   "execution_count": null,
   "metadata": {},
   "outputs": [],
   "source": []
  },
  {
   "cell_type": "code",
   "execution_count": null,
   "metadata": {},
   "outputs": [],
   "source": []
  },
  {
   "cell_type": "code",
   "execution_count": null,
   "metadata": {},
   "outputs": [],
   "source": []
  },
  {
   "cell_type": "code",
   "execution_count": null,
   "metadata": {},
   "outputs": [],
   "source": []
  },
  {
   "cell_type": "code",
   "execution_count": null,
   "metadata": {},
   "outputs": [],
   "source": []
  },
  {
   "cell_type": "code",
   "execution_count": null,
   "metadata": {},
   "outputs": [],
   "source": []
  },
  {
   "cell_type": "code",
   "execution_count": null,
   "metadata": {},
   "outputs": [],
   "source": []
  },
  {
   "cell_type": "code",
   "execution_count": null,
   "metadata": {},
   "outputs": [],
   "source": []
  },
  {
   "cell_type": "code",
   "execution_count": null,
   "metadata": {},
   "outputs": [],
   "source": []
  },
  {
   "cell_type": "code",
   "execution_count": null,
   "metadata": {},
   "outputs": [],
   "source": []
  },
  {
   "cell_type": "code",
   "execution_count": null,
   "metadata": {},
   "outputs": [],
   "source": []
  },
  {
   "cell_type": "markdown",
   "metadata": {},
   "source": [
    "### Installation"
   ]
  },
  {
   "cell_type": "markdown",
   "metadata": {},
   "source": [
    "Install latest from the GitHub [repository][repo]:\n",
    "\n",
    "```sh\n",
    "$ pip install git+https://github.com/mtinti/cryptosporidium_host_adaptation.git\n",
    "```\n",
    "\n",
    "or from [conda][conda]\n",
    "\n",
    "```sh\n",
    "$ conda install -c mtinti cryptosporidium_host_adaptation\n",
    "```\n",
    "\n",
    "or from [pypi][pypi]\n",
    "\n",
    "\n",
    "```sh\n",
    "$ pip install cryptosporidium_host_adaptation\n",
    "```\n",
    "\n",
    "\n",
    "[repo]: https://github.com/mtinti/cryptosporidium_host_adaptation\n",
    "[docs]: https://mtinti.github.io/cryptosporidium_host_adaptation/\n",
    "[pypi]: https://pypi.org/project/cryptosporidium_host_adaptation/\n",
    "[conda]: https://anaconda.org/mtinti/cryptosporidium_host_adaptation"
   ]
  },
  {
   "cell_type": "code",
   "execution_count": null,
   "metadata": {},
   "outputs": [],
   "source": [
    "#| hide\n",
    "import nbdev; nbdev.nbdev_export()"
   ]
  }
 ],
 "metadata": {
  "kernelspec": {
   "display_name": "delightful_data_analysis",
   "language": "python",
   "name": "delightful_data_analysis"
  }
 },
 "nbformat": 4,
 "nbformat_minor": 4
}
