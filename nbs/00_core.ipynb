{
 "cells": [
  {
   "cell_type": "markdown",
   "metadata": {},
   "source": [
    "# core\n",
    "\n",
    "> Fill in a module description here"
   ]
  },
  {
   "cell_type": "code",
   "execution_count": null,
   "metadata": {},
   "outputs": [
    {
     "name": "stdout",
     "output_type": "stream",
     "text": [
      "The autoreload extension is already loaded. To reload it, use:\n",
      "  %reload_ext autoreload\n"
     ]
    }
   ],
   "source": [
    "#| hide\n",
    "%load_ext autoreload\n",
    "%autoreload 2"
   ]
  },
  {
   "cell_type": "code",
   "execution_count": null,
   "metadata": {},
   "outputs": [],
   "source": [
    "#| default_exp core"
   ]
  },
  {
   "cell_type": "code",
   "execution_count": null,
   "metadata": {},
   "outputs": [],
   "source": [
    "#| hide\n",
    "from nbdev.showdoc import *"
   ]
  },
  {
   "cell_type": "code",
   "execution_count": null,
   "metadata": {},
   "outputs": [],
   "source": [
    "#| export\n",
    "import subprocess\n",
    "import os\n",
    "\n",
    "def count_variants(vcf_file):\n",
    "    \"\"\"Count the number of variants in a VCF file using subprocess.\"\"\"\n",
    "    if vcf_file.endswith('.gz'):\n",
    "        cmd = f\"bcftools view -H {vcf_file} | wc -l\"\n",
    "    else:\n",
    "        cmd = f\"grep -v '^#' {vcf_file} | wc -l\"\n",
    "    \n",
    "    result = subprocess.run(cmd, shell=True, capture_output=True, text=True)\n",
    "    return int(result.stdout.strip())\n",
    "\n",
    "def filter_variants():\n",
    "    # Define input and output VCF files\n",
    "    INPUT_VCF = \"../data/freebayes.annotated_pc1.vcf.gz\"\n",
    "    QUAL_FILTERED_VCF = \"../data/filtered_qual.vcf\"\n",
    "    DP_FILTERED_VCF = \"../data/filtered_dp.vcf\"\n",
    "    SNP_FILTERED_VCF = \"../data/filtered_snp.vcf\"\n",
    "    FINAL_VCF = \"../data/filtered_final.vcf\"\n",
    "    \n",
    "    print(\"======================================\")\n",
    "    print(\"Starting Variant Filtering Process\")\n",
    "    print(\"======================================\")\n",
    "    \n",
    "    # Count initial number of variants\n",
    "    START_COUNT = count_variants(INPUT_VCF)\n",
    "    print(f\"Total variants before filtering: {START_COUNT}\")\n",
    "    \n",
    "    # Step 1: Filter out low-quality variants (QUAL < 30)\n",
    "    subprocess.run(f\"bcftools filter -e 'QUAL < 30' {INPUT_VCF} -o {QUAL_FILTERED_VCF}\", shell=True)\n",
    "    QUAL_FILTERED_COUNT = count_variants(QUAL_FILTERED_VCF)\n",
    "    print(f\"Stage 1: QUAL filtering: {START_COUNT - QUAL_FILTERED_COUNT} Variants removed and {QUAL_FILTERED_COUNT} variants left\")\n",
    "\n",
    "    # Step 2: Filter variants based on per-sample depth (FORMAT/DP < 10 or > 150)\n",
    "    subprocess.run(f\"bcftools view -i 'FMT/DP >= 30 & FMT/DP <= 150' {QUAL_FILTERED_VCF} -o {DP_FILTERED_VCF}\", shell=True)\n",
    "    DP_FILTERED_COUNT = count_variants(DP_FILTERED_VCF)\n",
    "    print(f\"Stage 2: FORMAT/DP filtering, DP >= 30 & DP <= 150: {QUAL_FILTERED_COUNT - DP_FILTERED_COUNT} Variants removed and {DP_FILTERED_COUNT} variants left\")\n",
    "\n",
    "    # Step 3: Retain SNPs and indels (Remove other variant types if any)\n",
    "    subprocess.run(f\"bcftools view -v snps,indels {DP_FILTERED_VCF} -o {SNP_FILTERED_VCF}\", shell=True)\n",
    "    SNP_FILTERED_COUNT = count_variants(SNP_FILTERED_VCF)\n",
    "    print(f\"Stage 3: After keeping SNPs and indels: {DP_FILTERED_COUNT - SNP_FILTERED_COUNT} Variants removed and {SNP_FILTERED_COUNT} variants left\")\n",
    "\n",
    "    # Rename final output\n",
    "    os.rename(SNP_FILTERED_VCF, FINAL_VCF)\n",
    "    FINAL_COUNT = count_variants(FINAL_VCF)\n"
   ]
  },
  {
   "cell_type": "code",
   "execution_count": null,
   "metadata": {},
   "outputs": [],
   "source": []
  },
  {
   "cell_type": "code",
   "execution_count": null,
   "metadata": {},
   "outputs": [],
   "source": [
    "#| hide\n",
    "import nbdev; nbdev.nbdev_export()"
   ]
  }
 ],
 "metadata": {
  "kernelspec": {
   "display_name": "python3",
   "language": "python",
   "name": "python3"
  }
 },
 "nbformat": 4,
 "nbformat_minor": 4
}
